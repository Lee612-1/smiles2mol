{
 "cells": [
  {
   "cell_type": "code",
   "execution_count": 47,
   "metadata": {},
   "outputs": [],
   "source": [
    "import pandas as pd\n",
    "\n",
    "df = pd.read_csv('/hpc2hdd/home/yli106/smiles2mol/GEOM/qm9_processed/train_data_40k.csv')\n",
    "df = df[:1000]\n",
    "df.to_csv('/hpc2hdd/home/yli106/smiles2mol/GEOM/qm9_processed/train_demo.csv',index=False)\n"
   ]
  },
  {
   "cell_type": "code",
   "execution_count": 48,
   "metadata": {},
   "outputs": [],
   "source": [
    "df = pd.read_csv('/hpc2hdd/home/yli106/smiles2mol/GEOM/qm9_processed/val_data_5k.csv')\n",
    "df = df[:125]\n",
    "df.to_csv('/hpc2hdd/home/yli106/smiles2mol/GEOM/qm9_processed/val_demo.csv',index=False)"
   ]
  },
  {
   "cell_type": "code",
   "execution_count": 38,
   "metadata": {},
   "outputs": [],
   "source": [
    "import yaml\n",
    "from easydict import EasyDict\n",
    "\n",
    "with open('/hpc2hdd/home/yli106/smiles2mol/config/qm9_default.yml', 'r') as file:\n",
    "    config = yaml.safe_load(file)\n",
    "\n",
    "config = EasyDict(config)"
   ]
  },
  {
   "cell_type": "code",
   "execution_count": 42,
   "metadata": {},
   "outputs": [
    {
     "name": "stderr",
     "output_type": "stream",
     "text": [
      "/hpc2hdd/home/yli106/.local/lib/python3.10/site-packages/bitsandbytes/cextension.py:34: UserWarning: The installed version of bitsandbytes was compiled without GPU support. 8-bit optimizers, 8-bit multiplication, and GPU quantization are unavailable.\n",
      "  warn(\"The installed version of bitsandbytes was compiled without GPU support. \"\n"
     ]
    },
    {
     "name": "stdout",
     "output_type": "stream",
     "text": [
      "/hpc2hdd/home/yli106/.local/lib/python3.10/site-packages/bitsandbytes/libbitsandbytes_cpu.so: undefined symbol: cadam32bit_grad_fp32\n"
     ]
    }
   ],
   "source": [
    "import os\n",
    "import torch\n",
    "from datasets import load_dataset\n",
    "from transformers import (\n",
    "    AutoModelForCausalLM,\n",
    "    AutoTokenizer,\n",
    "    BitsAndBytesConfig,\n",
    "    HfArgumentParser,\n",
    "    TrainingArguments,\n",
    "    pipeline,\n",
    "    logging,\n",
    ")\n",
    "from peft import LoraConfig, PeftModel\n",
    "from trl import SFTTrainer\n",
    "import argparse\n",
    "from easydict import EasyDict\n",
    "\n",
    "tokenizer = AutoTokenizer.from_pretrained(\"/hpc2hdd/home/yli106/smiles_3d/llama2_7b_chat\", trust_remote_code=True, use_fast=False)\n",
    "tokenizer.pad_token = tokenizer.eos_token # Use the EOS token to pad shorter sequences\n",
    "tokenizer.padding_side = \"right\" # Fix weird overflow issue with fp16 training"
   ]
  },
  {
   "cell_type": "code",
   "execution_count": 59,
   "metadata": {},
   "outputs": [
    {
     "name": "stderr",
     "output_type": "stream",
     "text": [
      "100%|██████████| 200000/200000 [10:49<00:00, 307.90it/s]\n"
     ]
    },
    {
     "data": {
      "text/plain": [
       "1881"
      ]
     },
     "execution_count": 59,
     "metadata": {},
     "output_type": "execute_result"
    }
   ],
   "source": [
    "from tqdm import tqdm\n",
    "\n",
    "max_len = 0\n",
    "for i in tqdm(range(len(df))):\n",
    "    input_text = df['text'][i]\n",
    "    input_ids = tokenizer.encode(input_text, return_tensors='pt')\n",
    "    if len(input_ids[0]) > max_len:\n",
    "        max_len = len(input_ids[0])\n",
    "max_len   "
   ]
  },
  {
   "cell_type": "code",
   "execution_count": 60,
   "metadata": {},
   "outputs": [
    {
     "data": {
      "text/html": [
       "<div>\n",
       "<style scoped>\n",
       "    .dataframe tbody tr th:only-of-type {\n",
       "        vertical-align: middle;\n",
       "    }\n",
       "\n",
       "    .dataframe tbody tr th {\n",
       "        vertical-align: top;\n",
       "    }\n",
       "\n",
       "    .dataframe thead th {\n",
       "        text-align: right;\n",
       "    }\n",
       "</style>\n",
       "<table border=\"1\" class=\"dataframe\">\n",
       "  <thead>\n",
       "    <tr style=\"text-align: right;\">\n",
       "      <th></th>\n",
       "      <th>smiles</th>\n",
       "      <th>canonicalize_smiles</th>\n",
       "      <th>num_atom</th>\n",
       "      <th>num_bond</th>\n",
       "      <th>mol_block</th>\n",
       "      <th>text</th>\n",
       "    </tr>\n",
       "  </thead>\n",
       "  <tbody>\n",
       "    <tr>\n",
       "      <th>0</th>\n",
       "      <td>C[C@@]1(N2CC2)C[C@H]1O</td>\n",
       "      <td>[H]O[C@]1([H])C([H])([H])[C@]1(N1C([H])([H])C1...</td>\n",
       "      <td>19</td>\n",
       "      <td>20</td>\n",
       "      <td>\\n     RDKit          3D\\n\\n 19 20  0  0  0  0...</td>\n",
       "      <td>&lt;s&gt;[INST] &lt;&lt;SYS&gt;&gt;\\nBelow is a SMILES of a mole...</td>\n",
       "    </tr>\n",
       "    <tr>\n",
       "      <th>1</th>\n",
       "      <td>C[C@@]1(N2CC2)C[C@H]1O</td>\n",
       "      <td>[H]O[C@]1([H])C([H])([H])[C@]1(N1C([H])([H])C1...</td>\n",
       "      <td>19</td>\n",
       "      <td>20</td>\n",
       "      <td>\\n     RDKit          3D\\n\\n 19 20  0  0  0  0...</td>\n",
       "      <td>&lt;s&gt;[INST] &lt;&lt;SYS&gt;&gt;\\nBelow is a SMILES of a mole...</td>\n",
       "    </tr>\n",
       "    <tr>\n",
       "      <th>2</th>\n",
       "      <td>C[C@@]1(N2CC2)C[C@H]1O</td>\n",
       "      <td>[H]O[C@]1([H])C([H])([H])[C@]1(N1C([H])([H])C1...</td>\n",
       "      <td>19</td>\n",
       "      <td>20</td>\n",
       "      <td>\\n     RDKit          3D\\n\\n 19 20  0  0  0  0...</td>\n",
       "      <td>&lt;s&gt;[INST] &lt;&lt;SYS&gt;&gt;\\nBelow is a SMILES of a mole...</td>\n",
       "    </tr>\n",
       "    <tr>\n",
       "      <th>3</th>\n",
       "      <td>C[C@@]1(N2CC2)C[C@H]1O</td>\n",
       "      <td>[H]O[C@]1([H])C([H])([H])[C@]1(N1C([H])([H])C1...</td>\n",
       "      <td>19</td>\n",
       "      <td>20</td>\n",
       "      <td>\\n     RDKit          3D\\n\\n 19 20  0  0  0  0...</td>\n",
       "      <td>&lt;s&gt;[INST] &lt;&lt;SYS&gt;&gt;\\nBelow is a SMILES of a mole...</td>\n",
       "    </tr>\n",
       "    <tr>\n",
       "      <th>4</th>\n",
       "      <td>C[C@@]1(N2CC2)C[C@H]1O</td>\n",
       "      <td>[H]O[C@]1([H])C([H])([H])[C@]1(N1C([H])([H])C1...</td>\n",
       "      <td>19</td>\n",
       "      <td>20</td>\n",
       "      <td>\\n     RDKit          3D\\n\\n 19 20  0  0  0  0...</td>\n",
       "      <td>&lt;s&gt;[INST] &lt;&lt;SYS&gt;&gt;\\nBelow is a SMILES of a mole...</td>\n",
       "    </tr>\n",
       "    <tr>\n",
       "      <th>...</th>\n",
       "      <td>...</td>\n",
       "      <td>...</td>\n",
       "      <td>...</td>\n",
       "      <td>...</td>\n",
       "      <td>...</td>\n",
       "      <td>...</td>\n",
       "    </tr>\n",
       "    <tr>\n",
       "      <th>995</th>\n",
       "      <td>COC[C@H]1CO[C@H]1CO</td>\n",
       "      <td>[H]OC([H])([H])[C@]1([H])OC([H])([H])[C@]1([H]...</td>\n",
       "      <td>21</td>\n",
       "      <td>21</td>\n",
       "      <td>\\n     RDKit          3D\\n\\n 21 21  0  0  0  0...</td>\n",
       "      <td>&lt;s&gt;[INST] &lt;&lt;SYS&gt;&gt;\\nBelow is a SMILES of a mole...</td>\n",
       "    </tr>\n",
       "    <tr>\n",
       "      <th>996</th>\n",
       "      <td>COC[C@H]1CO[C@H]1CO</td>\n",
       "      <td>[H]OC([H])([H])[C@]1([H])OC([H])([H])[C@]1([H]...</td>\n",
       "      <td>21</td>\n",
       "      <td>21</td>\n",
       "      <td>\\n     RDKit          3D\\n\\n 21 21  0  0  0  0...</td>\n",
       "      <td>&lt;s&gt;[INST] &lt;&lt;SYS&gt;&gt;\\nBelow is a SMILES of a mole...</td>\n",
       "    </tr>\n",
       "    <tr>\n",
       "      <th>997</th>\n",
       "      <td>COC[C@H]1CO[C@H]1CO</td>\n",
       "      <td>[H]OC([H])([H])[C@]1([H])OC([H])([H])[C@]1([H]...</td>\n",
       "      <td>21</td>\n",
       "      <td>21</td>\n",
       "      <td>\\n     RDKit          3D\\n\\n 21 21  0  0  0  0...</td>\n",
       "      <td>&lt;s&gt;[INST] &lt;&lt;SYS&gt;&gt;\\nBelow is a SMILES of a mole...</td>\n",
       "    </tr>\n",
       "    <tr>\n",
       "      <th>998</th>\n",
       "      <td>COC[C@H]1CO[C@H]1CO</td>\n",
       "      <td>[H]OC([H])([H])[C@]1([H])OC([H])([H])[C@]1([H]...</td>\n",
       "      <td>21</td>\n",
       "      <td>21</td>\n",
       "      <td>\\n     RDKit          3D\\n\\n 21 21  0  0  0  0...</td>\n",
       "      <td>&lt;s&gt;[INST] &lt;&lt;SYS&gt;&gt;\\nBelow is a SMILES of a mole...</td>\n",
       "    </tr>\n",
       "    <tr>\n",
       "      <th>999</th>\n",
       "      <td>COC[C@H]1CO[C@H]1CO</td>\n",
       "      <td>[H]OC([H])([H])[C@]1([H])OC([H])([H])[C@]1([H]...</td>\n",
       "      <td>21</td>\n",
       "      <td>21</td>\n",
       "      <td>\\n     RDKit          3D\\n\\n 21 21  0  0  0  0...</td>\n",
       "      <td>&lt;s&gt;[INST] &lt;&lt;SYS&gt;&gt;\\nBelow is a SMILES of a mole...</td>\n",
       "    </tr>\n",
       "  </tbody>\n",
       "</table>\n",
       "<p>1000 rows × 6 columns</p>\n",
       "</div>"
      ],
      "text/plain": [
       "                     smiles  \\\n",
       "0    C[C@@]1(N2CC2)C[C@H]1O   \n",
       "1    C[C@@]1(N2CC2)C[C@H]1O   \n",
       "2    C[C@@]1(N2CC2)C[C@H]1O   \n",
       "3    C[C@@]1(N2CC2)C[C@H]1O   \n",
       "4    C[C@@]1(N2CC2)C[C@H]1O   \n",
       "..                      ...   \n",
       "995     COC[C@H]1CO[C@H]1CO   \n",
       "996     COC[C@H]1CO[C@H]1CO   \n",
       "997     COC[C@H]1CO[C@H]1CO   \n",
       "998     COC[C@H]1CO[C@H]1CO   \n",
       "999     COC[C@H]1CO[C@H]1CO   \n",
       "\n",
       "                                   canonicalize_smiles  num_atom  num_bond  \\\n",
       "0    [H]O[C@]1([H])C([H])([H])[C@]1(N1C([H])([H])C1...        19        20   \n",
       "1    [H]O[C@]1([H])C([H])([H])[C@]1(N1C([H])([H])C1...        19        20   \n",
       "2    [H]O[C@]1([H])C([H])([H])[C@]1(N1C([H])([H])C1...        19        20   \n",
       "3    [H]O[C@]1([H])C([H])([H])[C@]1(N1C([H])([H])C1...        19        20   \n",
       "4    [H]O[C@]1([H])C([H])([H])[C@]1(N1C([H])([H])C1...        19        20   \n",
       "..                                                 ...       ...       ...   \n",
       "995  [H]OC([H])([H])[C@]1([H])OC([H])([H])[C@]1([H]...        21        21   \n",
       "996  [H]OC([H])([H])[C@]1([H])OC([H])([H])[C@]1([H]...        21        21   \n",
       "997  [H]OC([H])([H])[C@]1([H])OC([H])([H])[C@]1([H]...        21        21   \n",
       "998  [H]OC([H])([H])[C@]1([H])OC([H])([H])[C@]1([H]...        21        21   \n",
       "999  [H]OC([H])([H])[C@]1([H])OC([H])([H])[C@]1([H]...        21        21   \n",
       "\n",
       "                                             mol_block  \\\n",
       "0    \\n     RDKit          3D\\n\\n 19 20  0  0  0  0...   \n",
       "1    \\n     RDKit          3D\\n\\n 19 20  0  0  0  0...   \n",
       "2    \\n     RDKit          3D\\n\\n 19 20  0  0  0  0...   \n",
       "3    \\n     RDKit          3D\\n\\n 19 20  0  0  0  0...   \n",
       "4    \\n     RDKit          3D\\n\\n 19 20  0  0  0  0...   \n",
       "..                                                 ...   \n",
       "995  \\n     RDKit          3D\\n\\n 21 21  0  0  0  0...   \n",
       "996  \\n     RDKit          3D\\n\\n 21 21  0  0  0  0...   \n",
       "997  \\n     RDKit          3D\\n\\n 21 21  0  0  0  0...   \n",
       "998  \\n     RDKit          3D\\n\\n 21 21  0  0  0  0...   \n",
       "999  \\n     RDKit          3D\\n\\n 21 21  0  0  0  0...   \n",
       "\n",
       "                                                  text  \n",
       "0    <s>[INST] <<SYS>>\\nBelow is a SMILES of a mole...  \n",
       "1    <s>[INST] <<SYS>>\\nBelow is a SMILES of a mole...  \n",
       "2    <s>[INST] <<SYS>>\\nBelow is a SMILES of a mole...  \n",
       "3    <s>[INST] <<SYS>>\\nBelow is a SMILES of a mole...  \n",
       "4    <s>[INST] <<SYS>>\\nBelow is a SMILES of a mole...  \n",
       "..                                                 ...  \n",
       "995  <s>[INST] <<SYS>>\\nBelow is a SMILES of a mole...  \n",
       "996  <s>[INST] <<SYS>>\\nBelow is a SMILES of a mole...  \n",
       "997  <s>[INST] <<SYS>>\\nBelow is a SMILES of a mole...  \n",
       "998  <s>[INST] <<SYS>>\\nBelow is a SMILES of a mole...  \n",
       "999  <s>[INST] <<SYS>>\\nBelow is a SMILES of a mole...  \n",
       "\n",
       "[1000 rows x 6 columns]"
      ]
     },
     "execution_count": 60,
     "metadata": {},
     "output_type": "execute_result"
    }
   ],
   "source": [
    "df = pd.read_csv('/hpc2hdd/home/yli106/smiles2mol/GEOM/qm9_processed/train_demo.csv')\n",
    "df"
   ]
  },
  {
   "cell_type": "code",
   "execution_count": 61,
   "metadata": {},
   "outputs": [
    {
     "name": "stdout",
     "output_type": "stream",
     "text": [
      "<s>[INST] <<SYS>>\n",
      "Below is a SMILES of a molecule, generate its 3D structure. The molecule has 19 atoms and 20 bonds.\n",
      "<</SYS>>\n",
      "\n",
      "[H]O[C@]1([H])C([H])([H])[C@]1(N1C([H])([H])C1([H])[H])C([H])([H])[H] [/INST] \n",
      "     RDKit          3D\n",
      "\n",
      " 19 20  0  0  0  0  0  0  0  0999 V2000\n",
      "   -0.6071   -1.7891    0.0790 C   0  0  0  0  0  0  0  0  0  0  0  0\n",
      "   -0.1418   -0.3532   -0.0397 C   0  0  2  0  0  0  0  0  0  0  0  0\n",
      "    1.1536   -0.1939    0.5447 N   0  0  0  0  0  0  0  0  0  0  0  0\n",
      "    1.9413    0.9960    0.3724 C   0  0  0  0  0  0  0  0  0  0  0  0\n",
      "    2.3320   -0.2693   -0.2849 C   0  0  0  0  0  0  0  0  0  0  0  0\n",
      "    3.1456   -0.8561    0.1180 H   0  0  0  0  0  0  0  0  0  0  0  0\n",
      "    2.2045   -0.3448   -1.3597 H   0  0  0  0  0  0  0  0  0  0  0  0\n",
      "    2.4688    1.3178    1.2606 H   0  0  0  0  0  0  0  0  0  0  0  0\n",
      "    1.5741    1.8084   -0.2445 H   0  0  0  0  0  0  0  0  0  0  0  0\n",
      "   -1.1571    0.7476    0.1205 C   0  0  1  0  0  0  0  0  0  0  0  0\n",
      "   -0.6135    0.4323   -1.2447 C   0  0  0  0  0  0  0  0  0  0  0  0\n",
      "   -1.2771   -0.0738   -1.9275 H   0  0  0  0  0  0  0  0  0  0  0  0\n",
      "    0.0347    1.1540   -1.7177 H   0  0  0  0  0  0  0  0  0  0  0  0\n",
      "   -2.4913    0.4502    0.3771 O   0  0  0  0  0  0  0  0  0  0  0  0\n",
      "   -2.5715    0.1133    1.2769 H   0  0  0  0  0  0  0  0  0  0  0  0\n",
      "   -0.8141    1.6677    0.5933 H   0  0  0  0  0  0  0  0  0  0  0  0\n",
      "   -0.0129   -2.4303   -0.5692 H   0  0  0  0  0  0  0  0  0  0  0  0\n",
      "   -1.6530   -1.8681   -0.2055 H   0  0  0  0  0  0  0  0  0  0  0  0\n",
      "   -0.4840   -2.1310    1.1047 H   0  0  0  0  0  0  0  0  0  0  0  0\n",
      "  2  1  1  6\n",
      "  1 17  1  0\n",
      "  1 18  1  0\n",
      "  1 19  1  0\n",
      "  2  3  1  0\n",
      "  2 10  1  0\n",
      "  2 11  1  0\n",
      "  3  4  1  0\n",
      "  3  5  1  0\n",
      "  4  5  1  0\n",
      "  4  8  1  0\n",
      "  4  9  1  0\n",
      "  5  6  1  0\n",
      "  5  7  1  0\n",
      " 10 11  1  0\n",
      " 10 14  1  0\n",
      " 10 16  1  1\n",
      " 11 12  1  0\n",
      " 11 13  1  0\n",
      " 14 15  1  0\n",
      "M  END\n",
      " </s>\n"
     ]
    }
   ],
   "source": [
    "print(df['text'][0])"
   ]
  }
 ],
 "metadata": {
  "kernelspec": {
   "display_name": "Python 3.10.13 ('dsaa6800': conda)",
   "language": "python",
   "name": "python3"
  },
  "language_info": {
   "codemirror_mode": {
    "name": "ipython",
    "version": 3
   },
   "file_extension": ".py",
   "mimetype": "text/x-python",
   "name": "python",
   "nbconvert_exporter": "python",
   "pygments_lexer": "ipython3",
   "version": "3.10.13"
  },
  "orig_nbformat": 4,
  "vscode": {
   "interpreter": {
    "hash": "d6ce6e8a217c41fb4da55841c6f4fa84b93e38c08d9863917dcf321eba60ffb7"
   }
  }
 },
 "nbformat": 4,
 "nbformat_minor": 2
}
