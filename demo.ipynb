{
 "cells": [
  {
   "cell_type": "code",
   "execution_count": 8,
   "metadata": {},
   "outputs": [],
   "source": [
    "import pandas as pd\n",
    "\n",
    "df = pd.read_csv('/hpc2hdd/home/yli106/smiles2mol/GEOM/qm9_processed/train_data_40k.csv')\n",
    "df = df[:1000]\n",
    "df.to_csv('/hpc2hdd/home/yli106/smiles2mol/GEOM/qm9_processed/train_demo.csv',index=False)\n"
   ]
  },
  {
   "cell_type": "code",
   "execution_count": 48,
   "metadata": {},
   "outputs": [],
   "source": [
    "df = pd.read_csv('/hpc2hdd/home/yli106/smiles2mol/GEOM/qm9_processed/val_data_5k.csv')\n",
    "df = df[:125]\n",
    "df.to_csv('/hpc2hdd/home/yli106/smiles2mol/GEOM/qm9_processed/val_demo.csv',index=False)"
   ]
  },
  {
   "cell_type": "code",
   "execution_count": 15,
   "metadata": {},
   "outputs": [],
   "source": [
    "import yaml\n",
    "from easydict import EasyDict\n",
    "\n",
    "with open('/hpc2hdd/home/yli106/smiles2mol/config/qm9_default.yml', 'r') as file:\n",
    "    config = yaml.safe_load(file)\n",
    "\n",
    "config = EasyDict(config)"
   ]
  },
  {
   "cell_type": "code",
   "execution_count": 4,
   "metadata": {},
   "outputs": [
    {
     "name": "stderr",
     "output_type": "stream",
     "text": [
      "100%|██████████| 24068/24068 [01:15<00:00, 317.69it/s]\n"
     ]
    },
    {
     "data": {
      "text/plain": [
       "1739"
      ]
     },
     "execution_count": 4,
     "metadata": {},
     "output_type": "execute_result"
    }
   ],
   "source": [
    "import os\n",
    "import torch\n",
    "from datasets import load_dataset\n",
    "from transformers import (\n",
    "    AutoModelForCausalLM,\n",
    "    AutoTokenizer,\n",
    "    BitsAndBytesConfig,\n",
    "    HfArgumentParser,\n",
    "    TrainingArguments,\n",
    "    pipeline,\n",
    "    logging,\n",
    ")\n",
    "from peft import LoraConfig, PeftModel\n",
    "from trl import SFTTrainer\n",
    "import argparse\n",
    "from easydict import EasyDict\n",
    "from tqdm import tqdm\n",
    "\n",
    "tokenizer = AutoTokenizer.from_pretrained(\"/hpc2hdd/home/yli106/smiles_3d/llama2_13b\", trust_remote_code=True, use_fast=False)\n",
    "tokenizer.pad_token = tokenizer.eos_token # Use the EOS token to pad shorter sequences\n",
    "tokenizer.padding_side = \"right\" # Fix weird overflow issue with fp16 training\n",
    "\n",
    "max_len = 0\n",
    "for i in tqdm(range(len(df))):\n",
    "    input_text = df['mol_block'][i]\n",
    "    input_ids = tokenizer.encode(input_text, return_tensors='pt')\n",
    "    if len(input_ids[0]) > max_len:\n",
    "        max_len = len(input_ids[0])\n",
    "max_len   "
   ]
  },
  {
   "cell_type": "code",
   "execution_count": 6,
   "metadata": {},
   "outputs": [
    {
     "data": {
      "text/plain": [
       "105"
      ]
     },
     "execution_count": 6,
     "metadata": {},
     "output_type": "execute_result"
    }
   ],
   "source": [
    "smiles = df['canonicalize_smiles'][10]\n",
    "system_prompt = 'Below is a SMILES of a molecule, generate its 3D structure. The molecule has 15 atoms and 15 bonds.'\n",
    "inst = '<s>[INST] <<SYS>>\\n' + system_prompt + '\\n<</SYS>>\\n\\n' + smiles + ' [/INST] '+' </s>'\n",
    "input_ids = tokenizer.encode(inst, return_tensors='pt')\n",
    "len(input_ids[0])"
   ]
  },
  {
   "cell_type": "code",
   "execution_count": 2,
   "metadata": {},
   "outputs": [],
   "source": [
    "def process_inst(smiles, num_atom, num_bond):\n",
    "    system_prompt = f'Below is a SMILES of a molecule, generate its 3D structure. The molecule has {num_atom} atoms and {num_bond} bonds.'\n",
    "    inst = '<|begin_of_text|><|start_header_id|>system<|end_header_id|>\\n' + system_prompt + '<|eot_id|><|start_header_id|>user<|end_header_id|>\\n' + smiles + '<|eot_id|><|start_header_id|>assistant<|end_header_id|>\\n'\n",
    "    \n",
    "    return inst"
   ]
  },
  {
   "cell_type": "code",
   "execution_count": 7,
   "metadata": {},
   "outputs": [],
   "source": [
    "text_col = []\n",
    "for _, row in df.iterrows():\n",
    "    num_atom = row['num_atom']\n",
    "    num_bond = row['num_bond']\n",
    "    smiles = row['canonicalize_smiles'] \n",
    "    inst = process_inst(smiles, num_atom, num_bond)\n",
    "    model_answer = row['mol_block']\n",
    "    text = inst + model_answer + '<|end_of_text|>'\n",
    "    text_col.append(text)\n",
    "\n",
    "df.loc[:, 'text'] = text_col"
   ]
  },
  {
   "cell_type": "code",
   "execution_count": 8,
   "metadata": {},
   "outputs": [
    {
     "data": {
      "text/html": [
       "<div>\n",
       "<style scoped>\n",
       "    .dataframe tbody tr th:only-of-type {\n",
       "        vertical-align: middle;\n",
       "    }\n",
       "\n",
       "    .dataframe tbody tr th {\n",
       "        vertical-align: top;\n",
       "    }\n",
       "\n",
       "    .dataframe thead th {\n",
       "        text-align: right;\n",
       "    }\n",
       "</style>\n",
       "<table border=\"1\" class=\"dataframe\">\n",
       "  <thead>\n",
       "    <tr style=\"text-align: right;\">\n",
       "      <th></th>\n",
       "      <th>smiles</th>\n",
       "      <th>canonicalize_smiles</th>\n",
       "      <th>num_atom</th>\n",
       "      <th>num_bond</th>\n",
       "      <th>mol_block</th>\n",
       "      <th>text</th>\n",
       "    </tr>\n",
       "  </thead>\n",
       "  <tbody>\n",
       "    <tr>\n",
       "      <th>0</th>\n",
       "      <td>C[C@@]1(N2CC2)C[C@H]1O</td>\n",
       "      <td>[H]O[C@]1([H])C([H])([H])[C@]1(N1C([H])([H])C1...</td>\n",
       "      <td>19</td>\n",
       "      <td>20</td>\n",
       "      <td>\\n     RDKit          3D\\n\\n 19 20  0  0  0  0...</td>\n",
       "      <td>&lt;|begin_of_text|&gt;&lt;|start_header_id|&gt;system&lt;|en...</td>\n",
       "    </tr>\n",
       "    <tr>\n",
       "      <th>1</th>\n",
       "      <td>C[C@@]1(N2CC2)C[C@H]1O</td>\n",
       "      <td>[H]O[C@]1([H])C([H])([H])[C@]1(N1C([H])([H])C1...</td>\n",
       "      <td>19</td>\n",
       "      <td>20</td>\n",
       "      <td>\\n     RDKit          3D\\n\\n 19 20  0  0  0  0...</td>\n",
       "      <td>&lt;|begin_of_text|&gt;&lt;|start_header_id|&gt;system&lt;|en...</td>\n",
       "    </tr>\n",
       "    <tr>\n",
       "      <th>2</th>\n",
       "      <td>C[C@@]1(N2CC2)C[C@H]1O</td>\n",
       "      <td>[H]O[C@]1([H])C([H])([H])[C@]1(N1C([H])([H])C1...</td>\n",
       "      <td>19</td>\n",
       "      <td>20</td>\n",
       "      <td>\\n     RDKit          3D\\n\\n 19 20  0  0  0  0...</td>\n",
       "      <td>&lt;|begin_of_text|&gt;&lt;|start_header_id|&gt;system&lt;|en...</td>\n",
       "    </tr>\n",
       "    <tr>\n",
       "      <th>3</th>\n",
       "      <td>C[C@@]1(N2CC2)C[C@H]1O</td>\n",
       "      <td>[H]O[C@]1([H])C([H])([H])[C@]1(N1C([H])([H])C1...</td>\n",
       "      <td>19</td>\n",
       "      <td>20</td>\n",
       "      <td>\\n     RDKit          3D\\n\\n 19 20  0  0  0  0...</td>\n",
       "      <td>&lt;|begin_of_text|&gt;&lt;|start_header_id|&gt;system&lt;|en...</td>\n",
       "    </tr>\n",
       "    <tr>\n",
       "      <th>4</th>\n",
       "      <td>C[C@@]1(N2CC2)C[C@H]1O</td>\n",
       "      <td>[H]O[C@]1([H])C([H])([H])[C@]1(N1C([H])([H])C1...</td>\n",
       "      <td>19</td>\n",
       "      <td>20</td>\n",
       "      <td>\\n     RDKit          3D\\n\\n 19 20  0  0  0  0...</td>\n",
       "      <td>&lt;|begin_of_text|&gt;&lt;|start_header_id|&gt;system&lt;|en...</td>\n",
       "    </tr>\n",
       "    <tr>\n",
       "      <th>...</th>\n",
       "      <td>...</td>\n",
       "      <td>...</td>\n",
       "      <td>...</td>\n",
       "      <td>...</td>\n",
       "      <td>...</td>\n",
       "      <td>...</td>\n",
       "    </tr>\n",
       "    <tr>\n",
       "      <th>199995</th>\n",
       "      <td>N[C@H]1COCOC1=O</td>\n",
       "      <td>[H]N([H])[C@]1([H])C(=O)OC([H])([H])OC1([H])[H]</td>\n",
       "      <td>15</td>\n",
       "      <td>15</td>\n",
       "      <td>\\n     RDKit          3D\\n\\n 15 15  0  0  0  0...</td>\n",
       "      <td>&lt;|begin_of_text|&gt;&lt;|start_header_id|&gt;system&lt;|en...</td>\n",
       "    </tr>\n",
       "    <tr>\n",
       "      <th>199996</th>\n",
       "      <td>N[C@H]1COCOC1=O</td>\n",
       "      <td>[H]N([H])[C@]1([H])C(=O)OC([H])([H])OC1([H])[H]</td>\n",
       "      <td>15</td>\n",
       "      <td>15</td>\n",
       "      <td>\\n     RDKit          3D\\n\\n 15 15  0  0  0  0...</td>\n",
       "      <td>&lt;|begin_of_text|&gt;&lt;|start_header_id|&gt;system&lt;|en...</td>\n",
       "    </tr>\n",
       "    <tr>\n",
       "      <th>199997</th>\n",
       "      <td>N[C@H]1COCOC1=O</td>\n",
       "      <td>[H]N([H])[C@]1([H])C(=O)OC([H])([H])OC1([H])[H]</td>\n",
       "      <td>15</td>\n",
       "      <td>15</td>\n",
       "      <td>\\n     RDKit          3D\\n\\n 15 15  0  0  0  0...</td>\n",
       "      <td>&lt;|begin_of_text|&gt;&lt;|start_header_id|&gt;system&lt;|en...</td>\n",
       "    </tr>\n",
       "    <tr>\n",
       "      <th>199998</th>\n",
       "      <td>N[C@H]1COCOC1=O</td>\n",
       "      <td>[H]N([H])[C@]1([H])C(=O)OC([H])([H])OC1([H])[H]</td>\n",
       "      <td>15</td>\n",
       "      <td>15</td>\n",
       "      <td>\\n     RDKit          3D\\n\\n 15 15  0  0  0  0...</td>\n",
       "      <td>&lt;|begin_of_text|&gt;&lt;|start_header_id|&gt;system&lt;|en...</td>\n",
       "    </tr>\n",
       "    <tr>\n",
       "      <th>199999</th>\n",
       "      <td>N[C@H]1COCOC1=O</td>\n",
       "      <td>[H]N([H])[C@]1([H])C(=O)OC([H])([H])OC1([H])[H]</td>\n",
       "      <td>15</td>\n",
       "      <td>15</td>\n",
       "      <td>\\n     RDKit          3D\\n\\n 15 15  0  0  0  0...</td>\n",
       "      <td>&lt;|begin_of_text|&gt;&lt;|start_header_id|&gt;system&lt;|en...</td>\n",
       "    </tr>\n",
       "  </tbody>\n",
       "</table>\n",
       "<p>200000 rows × 6 columns</p>\n",
       "</div>"
      ],
      "text/plain": [
       "                        smiles  \\\n",
       "0       C[C@@]1(N2CC2)C[C@H]1O   \n",
       "1       C[C@@]1(N2CC2)C[C@H]1O   \n",
       "2       C[C@@]1(N2CC2)C[C@H]1O   \n",
       "3       C[C@@]1(N2CC2)C[C@H]1O   \n",
       "4       C[C@@]1(N2CC2)C[C@H]1O   \n",
       "...                        ...   \n",
       "199995         N[C@H]1COCOC1=O   \n",
       "199996         N[C@H]1COCOC1=O   \n",
       "199997         N[C@H]1COCOC1=O   \n",
       "199998         N[C@H]1COCOC1=O   \n",
       "199999         N[C@H]1COCOC1=O   \n",
       "\n",
       "                                      canonicalize_smiles  num_atom  num_bond  \\\n",
       "0       [H]O[C@]1([H])C([H])([H])[C@]1(N1C([H])([H])C1...        19        20   \n",
       "1       [H]O[C@]1([H])C([H])([H])[C@]1(N1C([H])([H])C1...        19        20   \n",
       "2       [H]O[C@]1([H])C([H])([H])[C@]1(N1C([H])([H])C1...        19        20   \n",
       "3       [H]O[C@]1([H])C([H])([H])[C@]1(N1C([H])([H])C1...        19        20   \n",
       "4       [H]O[C@]1([H])C([H])([H])[C@]1(N1C([H])([H])C1...        19        20   \n",
       "...                                                   ...       ...       ...   \n",
       "199995    [H]N([H])[C@]1([H])C(=O)OC([H])([H])OC1([H])[H]        15        15   \n",
       "199996    [H]N([H])[C@]1([H])C(=O)OC([H])([H])OC1([H])[H]        15        15   \n",
       "199997    [H]N([H])[C@]1([H])C(=O)OC([H])([H])OC1([H])[H]        15        15   \n",
       "199998    [H]N([H])[C@]1([H])C(=O)OC([H])([H])OC1([H])[H]        15        15   \n",
       "199999    [H]N([H])[C@]1([H])C(=O)OC([H])([H])OC1([H])[H]        15        15   \n",
       "\n",
       "                                                mol_block  \\\n",
       "0       \\n     RDKit          3D\\n\\n 19 20  0  0  0  0...   \n",
       "1       \\n     RDKit          3D\\n\\n 19 20  0  0  0  0...   \n",
       "2       \\n     RDKit          3D\\n\\n 19 20  0  0  0  0...   \n",
       "3       \\n     RDKit          3D\\n\\n 19 20  0  0  0  0...   \n",
       "4       \\n     RDKit          3D\\n\\n 19 20  0  0  0  0...   \n",
       "...                                                   ...   \n",
       "199995  \\n     RDKit          3D\\n\\n 15 15  0  0  0  0...   \n",
       "199996  \\n     RDKit          3D\\n\\n 15 15  0  0  0  0...   \n",
       "199997  \\n     RDKit          3D\\n\\n 15 15  0  0  0  0...   \n",
       "199998  \\n     RDKit          3D\\n\\n 15 15  0  0  0  0...   \n",
       "199999  \\n     RDKit          3D\\n\\n 15 15  0  0  0  0...   \n",
       "\n",
       "                                                     text  \n",
       "0       <|begin_of_text|><|start_header_id|>system<|en...  \n",
       "1       <|begin_of_text|><|start_header_id|>system<|en...  \n",
       "2       <|begin_of_text|><|start_header_id|>system<|en...  \n",
       "3       <|begin_of_text|><|start_header_id|>system<|en...  \n",
       "4       <|begin_of_text|><|start_header_id|>system<|en...  \n",
       "...                                                   ...  \n",
       "199995  <|begin_of_text|><|start_header_id|>system<|en...  \n",
       "199996  <|begin_of_text|><|start_header_id|>system<|en...  \n",
       "199997  <|begin_of_text|><|start_header_id|>system<|en...  \n",
       "199998  <|begin_of_text|><|start_header_id|>system<|en...  \n",
       "199999  <|begin_of_text|><|start_header_id|>system<|en...  \n",
       "\n",
       "[200000 rows x 6 columns]"
      ]
     },
     "execution_count": 8,
     "metadata": {},
     "output_type": "execute_result"
    }
   ],
   "source": [
    "df"
   ]
  },
  {
   "cell_type": "code",
   "execution_count": 5,
   "metadata": {},
   "outputs": [],
   "source": [
    "df.to_csv('/hpc2hdd/home/yli106/smiles2mol/GEOM/qm9_processed/train_data_40k_llama3.csv', index=False)"
   ]
  },
  {
   "cell_type": "markdown",
   "metadata": {},
   "source": [
    "# inference"
   ]
  },
  {
   "cell_type": "code",
   "execution_count": 171,
   "metadata": {},
   "outputs": [],
   "source": [
    "import os\n",
    "import torch\n",
    "from transformers import (\n",
    "    AutoModelForCausalLM,\n",
    "    AutoTokenizer,\n",
    "    StoppingCriteria,\n",
    "    HfArgumentParser,\n",
    "    TrainingArguments,\n",
    "    logging,\n",
    ")\n",
    "from peft import LoraConfig, PeftModel\n",
    "from trl import SFTTrainer\n",
    "import re\n",
    "from tqdm import tqdm\n",
    "import pandas as pd\n",
    "import pickle\n",
    "from conf3d import dataset\n",
    "import yaml\n",
    "from easydict import EasyDict\n",
    "from torch.cuda import empty_cache\n",
    "from rdkit import Chem\n",
    "from rdkit.Chem import AllChem\n",
    "from rdkit.Chem import rdDetermineBonds\n",
    "from rdkit.Chem.rdmolops import RemoveHs\n",
    "from rdkit.Chem import rdMolAlign as MA\n",
    "from rdkit.Chem.rdForceFieldHelpers import MMFFOptimizeMolecule\n",
    "from rdkit import RDLogger\n",
    "\n",
    "with open('/hpc2hdd/home/yli106/smiles2mol/config/qm9_default.yml', 'r') as f:\n",
    "    config = yaml.safe_load(f)\n",
    "config = EasyDict(config)\n",
    "config.training_arguments.learning_rate = float(config.training_arguments.learning_rate)"
   ]
  },
  {
   "cell_type": "code",
   "execution_count": 2,
   "metadata": {},
   "outputs": [
    {
     "data": {
      "application/vnd.jupyter.widget-view+json": {
       "model_id": "862e3b263ebb4386b5c0ec90cd506a99",
       "version_major": 2,
       "version_minor": 0
      },
      "text/plain": [
       "Loading checkpoint shards:   0%|          | 0/2 [00:00<?, ?it/s]"
      ]
     },
     "metadata": {},
     "output_type": "display_data"
    },
    {
     "name": "stderr",
     "output_type": "stream",
     "text": [
      "/hpc2hdd/home/yli106/.conda/envs/dsaa6800/lib/python3.10/site-packages/transformers/generation/configuration_utils.py:492: UserWarning: `do_sample` is set to `False`. However, `temperature` is set to `0.9` -- this flag is only used in sample-based generation modes. You should set `do_sample=True` or unset `temperature`. This was detected when initializing the generation config instance, which means the corresponding file may hold incorrect parameterization and should be fixed.\n",
      "  warnings.warn(\n",
      "/hpc2hdd/home/yli106/.conda/envs/dsaa6800/lib/python3.10/site-packages/transformers/generation/configuration_utils.py:497: UserWarning: `do_sample` is set to `False`. However, `top_p` is set to `0.6` -- this flag is only used in sample-based generation modes. You should set `do_sample=True` or unset `top_p`. This was detected when initializing the generation config instance, which means the corresponding file may hold incorrect parameterization and should be fixed.\n",
      "  warnings.warn(\n",
      "/hpc2hdd/home/yli106/.conda/envs/dsaa6800/lib/python3.10/site-packages/transformers/generation/configuration_utils.py:492: UserWarning: `do_sample` is set to `False`. However, `temperature` is set to `0.9` -- this flag is only used in sample-based generation modes. You should set `do_sample=True` or unset `temperature`.\n",
      "  warnings.warn(\n",
      "/hpc2hdd/home/yli106/.conda/envs/dsaa6800/lib/python3.10/site-packages/transformers/generation/configuration_utils.py:497: UserWarning: `do_sample` is set to `False`. However, `top_p` is set to `0.6` -- this flag is only used in sample-based generation modes. You should set `do_sample=True` or unset `top_p`.\n",
      "  warnings.warn(\n"
     ]
    },
    {
     "name": "stdout",
     "output_type": "stream",
     "text": [
      "loading data from /hpc2hdd/home/yli106/smiles2mol/GEOM/qm9_processed\n"
     ]
    }
   ],
   "source": [
    "# load the tokenizer\n",
    "model_path = os.path.join(config.model.base_path, '%s_%s' % (config.model.type, config.model.size))\n",
    "peft_path = config.model.peft_path\n",
    "tokenizer = AutoTokenizer.from_pretrained(model_path, trust_remote_code=True, use_fast=False)\n",
    "tokenizer.pad_token = tokenizer.eos_token # Use the EOS token to pad shorter sequences\n",
    "tokenizer.padding_side = \"right\" # Fix weird overflow issue with fp16 training\n",
    "\n",
    "# model set up\n",
    "model = AutoModelForCausalLM.from_pretrained(\n",
    "    model_path,\n",
    "    device_map= \"auto\"\n",
    ")\n",
    "model = PeftModel.from_pretrained(model, peft_path)\n",
    "model = model.merge_and_unload()\n",
    "\n",
    "# load the dataset\n",
    "load_path = os.path.join(config.data.base_path, '%s_processed' % config.data.dataset)\n",
    "print('loading data from %s' % load_path)\n",
    "with open(os.path.join(load_path, config.data.test_set), 'rb') as f:\n",
    "    test_data = pickle.load(f)"
   ]
  },
  {
   "cell_type": "code",
   "execution_count": 12,
   "metadata": {},
   "outputs": [],
   "source": [
    "def get_atom(mol):\n",
    "    atom_num = mol.GetNumAtoms() \n",
    "    bond_num = mol.GetNumBonds()\n",
    "    mol_block = Chem.MolToMolBlock(mol).split('\\n')\n",
    "    order_list = mol_block[:4]\n",
    "    for i in range(atom_num):\n",
    "        order_list.append(mol_block[i+4][31:])\n",
    "    return order_list"
   ]
  },
  {
   "cell_type": "code",
   "execution_count": 33,
   "metadata": {},
   "outputs": [],
   "source": [
    "def get_bond(mol):\n",
    "    atom_num = mol.GetNumAtoms() \n",
    "    bond_num = mol.GetNumBonds()\n",
    "    mol_block = Chem.MolToMolBlock(mol).split('\\n')\n",
    "    order_list=mol_block[4+atom_num:]\n",
    "    return order_list"
   ]
  },
  {
   "cell_type": "code",
   "execution_count": 39,
   "metadata": {},
   "outputs": [],
   "source": [
    "def get_diff_bond(mol_list):\n",
    "    bond_list = [list(t) for t in set(tuple(get_bond(mol)) for mol in mol_list)]\n",
    "    return bond_list\n",
    "        "
   ]
  },
  {
   "cell_type": "code",
   "execution_count": 172,
   "metadata": {},
   "outputs": [],
   "source": [
    "bond_list = get_diff_bond(test_data[1][3])\n",
    "atom_list = get_atom(test_data[1][3][0])"
   ]
  },
  {
   "cell_type": "code",
   "execution_count": 89,
   "metadata": {},
   "outputs": [
    {
     "name": "stdout",
     "output_type": "stream",
     "text": [
      "61\n",
      "<s>[INST] <<SYS>>\n",
      "Below is a SMILES of a molecule, generate its 3D structure. The molecule has 19 atoms and 18 bonds.\n",
      "<</SYS>>\n",
      "\n",
      "[H]C#CC(=O)[C@]([H])(O[H])C([H])([H])C([H])([H])C([H])([H])[H] [/INST] \n",
      "     RDKit          3D\n",
      "\n",
      " 19 18  0  0  0  0  0  0  0  0999 V2000\n"
     ]
    }
   ],
   "source": [
    "num_conf = len(test_data[0][3])\n",
    "print(num_conf)\n",
    "input_text = dataset.process_inst(test_data[0][0], test_data[0][1], test_data[0][2])\n",
    "input_text += ('\\n').join(atom_list[:4])\n",
    "print(input_text)\n",
    "input_ids = tokenizer.encode(input_text, return_tensors='pt')\n",
    "input_ids = input_ids.to('cuda')"
   ]
  },
  {
   "cell_type": "code",
   "execution_count": null,
   "metadata": {},
   "outputs": [],
   "source": [
    "n = 1\n",
    "bond_list = get_diff_bond(test_data[n][3])\n",
    "atom_list = get_atom(test_data[n][3][0])\n",
    "\n",
    "num_conf = len(test_data[n][3])\n",
    "print(num_conf)\n",
    "input_text = dataset.process_inst(test_data[n][0], test_data[n][1], test_data[n][2])\n",
    "input_text += ('\\n').join(atom_list[:4])\n",
    "print(input_text)\n",
    "\n",
    "time = config.inference.multiplier*num_conf\n",
    "gen = 0\n",
    "raw_generated_texts = []\n",
    "pbar = tqdm(total=time, desc=\"Generating\")\n",
    "\n",
    "while True:\n",
    "\n",
    "    input_ids = tokenizer.encode(input_text, return_tensors='pt')\n",
    "    input_ids = input_ids.to('cuda')\n",
    "\n",
    "\n",
    "    for i in range(test_data[n][1]): \n",
    "        class CustomStoppingCriteria(StoppingCriteria):\n",
    "            def __init__(self):\n",
    "                self.stopped_by_second_condition = False\n",
    "            def __call__(self, input_ids, scores):\n",
    "                indices = (input_ids[0] == 29889).nonzero(as_tuple=True)[0]\n",
    "                if len(indices) >= 5+3*i:\n",
    "                    third_index = indices[4+3*i]\n",
    "                    num_elements_after_third = input_ids[0].numel() - third_index.item() - 1\n",
    "                    if num_elements_after_third >=4:\n",
    "                        return True      \n",
    "                    else:\n",
    "                        return False\n",
    "                elif (input_ids[0] == 13).sum().item() >= test_data[n][1]+8:\n",
    "                    self.stopped_by_second_condition = True  # Set the flag\n",
    "                    return True\n",
    "                else:\n",
    "                    return False\n",
    "        stopping_criteria = CustomStoppingCriteria()\n",
    "        output_sequences = model.generate(\n",
    "            input_ids=input_ids, \n",
    "            max_length=config.inference.max_length, \n",
    "            do_sample=config.inference.do_sample, \n",
    "            top_k=config.inference.top_k, \n",
    "            top_p=config.inference.top_p, \n",
    "            temperature=config.inference.temperature, \n",
    "            eos_token_id=tokenizer.eos_token_id, \n",
    "            stopping_criteria=[stopping_criteria], \n",
    "            num_return_sequences=1\n",
    "        )   \n",
    "        add_text = atom_list[4+i]+'\\n'\n",
    "        add_ids = tokenizer.encode(add_text, return_tensors='pt')\n",
    "        add_ids = add_ids.to('cuda')\n",
    "        input_ids = torch.cat((output_sequences, add_ids), dim=1)\n",
    "\n",
    "    if not stopping_criteria.stopped_by_second_condition:\n",
    "        raw_generated_texts.append(tokenizer.decode(input_ids[0], skip_special_tokens=True))\n",
    "        gen+=1\n",
    "        pbar.update(1)\n",
    "    \n",
    "    if gen>=time:\n",
    "        pbar.close()\n",
    "        break\n"
   ]
  },
  {
   "cell_type": "code",
   "execution_count": 204,
   "metadata": {},
   "outputs": [
    {
     "name": "stdout",
     "output_type": "stream",
     "text": [
      "[INST] <<SYS>>\n",
      "Below is a SMILES of a molecule, generate its 3D structure. The molecule has 22 atoms and 21 bonds.\n",
      "<</SYS>>\n",
      "\n",
      "[H]O/N=C(\\C([H])([H])[H])C([H])([H])[C@]([H])(O[H])C([H])([H])C([H])([H])[H] [/INST] \n",
      "     RDKit          3D\n",
      "\n",
      " 22 21  0  0  0  0  0  0  0  0999 V2000\n",
      "   -2.7907   -0.9384   -0.1240 C   0  0  0  0  0  0  0  0  0  0  0  0\n",
      "   -3.5563   -0.2106   -0.2462 C   0  0  0  0  0  0  0  0  0  0  0  0\n",
      "   -4.2983    0.4780   -0.3537 H   0  0  0  0  0  0  0  0  0  0  0  0\n",
      "   -3.0004   -0.4418   -1.1543 H   0  0  0  0  0  0  0  0  0  0  0  0\n",
      "   -2.2697   -0.2116    0.9296 C   0  0  1  0  0  0  0  0  0  0  0  0\n",
      "   -2.5876    1.2452    0.7701 O   0  0  0  0  0  0  0  0  0  0  0  0\n",
      "   -2.0783    1.5805    0.0318 H   0  0  0  0  0  0  0  0  0  0  0  0\n",
      "   -2.7921   -0.6282    1.7787 H   0  0  0  0  0  0  0  0  0  0  0  0\n",
      "   -0.8327   -0.4341    0.7367 C   0  0  0  0  0  0  0  0  0  0  0  0\n",
      "   -0.4424    0.3658   -0.3921 C   0  0  0  0  0  0  0  0  0  0  0  0\n",
      "    0.8140    0.9704   -0.5783 N   0  0  0  0  0  0  0  0  0  0  0  0\n",
      "    1.8681    0.5258    0.2600 O   0  0  0  0  0  0  0  0  0  0  0  0\n",
      "    2.1100   -0.5302    0.7437 H   0  0  0  0  0  0  0  0  0  0  0  0\n",
      "    2.4815    1.2161   -0.1214 C   0  0  0  0  0  0  0  0  0  0  0  0\n",
      "    3.3880    1.6768    0.3138 H   0  0  0  0  0  0  0  0  0  0  0  0\n",
      "    2.4356    1.5117   -1.1425 H   0  0  0  0  0  0  0  0  0  0  0  0\n",
      "   -0.8914    0.0858   -1.2780 H   0  0  0  0  0  0  0  0  0  0  0  0\n",
      "   -0.4579   -1.3206    0.4853 H   0  0  0  0  0  0  0  0  0  0  0  0\n",
      "   -0.3921   -0.0525    1.4839 H   0  0  0  0  0  0  0  0  0  0  0  0\n",
      "   -0.2558   -0.4034   -1.1614 H   0  0  0  0  0  0  0  0  0  0  0  0\n",
      "   -2.6162   -0.3141   -0.1677 H   0  0  0  0  0  0  0  0  0  0  0  0\n",
      "   -2.6645   -0.2369   -1.0432 H   0  0  0  0  0  0  0  0  0  0  0  0\n",
      "  1  2  1  0\n",
      "  1 20  1  0\n",
      "  1 21  1  0\n",
      "  1 22  1  0\n",
      "  2  3  1  0\n",
      "  2  4  1  0\n",
      "  2  5  1  0\n",
      "  5  6  1  0\n",
      "  5  8  1  6\n",
      "  5  9  1  0\n",
      "  6  7  1  0\n",
      "  9 10  1  0\n",
      "  9 18  1  0\n",
      "  9 19  1  0\n",
      " 10 11  2  0\n",
      " 10 14  1  0\n",
      " 11 12  1  0\n",
      " 12 13  1  0\n",
      " 14 15  1  0\n",
      " 14 16  1  0\n",
      " 14 17  1  0\n",
      "M  END\n",
      "\n"
     ]
    }
   ],
   "source": [
    "bond_text = ('\\n').join(bond_list[0][:])\n",
    "generated_texts = [x + bond_text for x in raw_generated_texts]\n",
    "print(generated_texts[0])"
   ]
  },
  {
   "cell_type": "code",
   "execution_count": 205,
   "metadata": {},
   "outputs": [],
   "source": [
    "gen_mol_list = []\n",
    "for generated_text in generated_texts:\n",
    "    mol_block_text = dataset.get_mol_block(generated_text, test_data[n][0], test_data[n][1], test_data[n][2])\n",
    "    with open('test.mol', 'w') as f:\n",
    "        f.write(mol_block_text)\n",
    "    try:\n",
    "        gen_mol = Chem.MolFromMolFile('/hpc2hdd/home/yli106/smiles2mol/test.mol')\n",
    "        gen_mol = RemoveHs(gen_mol)\n",
    "        gen_mol_list.append(gen_mol)\n",
    "    except:\n",
    "        pass"
   ]
  },
  {
   "cell_type": "code",
   "execution_count": 206,
   "metadata": {},
   "outputs": [
    {
     "data": {
      "text/plain": [
       "10"
      ]
     },
     "execution_count": 206,
     "metadata": {},
     "output_type": "execute_result"
    }
   ],
   "source": [
    "len(gen_mol_list)"
   ]
  },
  {
   "cell_type": "code",
   "execution_count": 209,
   "metadata": {},
   "outputs": [
    {
     "data": {
      "text/plain": [
       "(60.0, 0.9875314359301098)"
      ]
     },
     "execution_count": 209,
     "metadata": {},
     "output_type": "execute_result"
    }
   ],
   "source": [
    "utils.get_cov_mat_p(gen_mol_list, test_data[n][3], threshold=0.5)"
   ]
  },
  {
   "cell_type": "code",
   "execution_count": 217,
   "metadata": {},
   "outputs": [
    {
     "data": {
      "text/plain": [
       "1.312874940785297"
      ]
     },
     "execution_count": 217,
     "metadata": {},
     "output_type": "execute_result"
    }
   ],
   "source": [
    "from conf3d import dataset, utils\n",
    "rmsd_list = []  \n",
    "for i in range(len(test_data[n][3])):\n",
    "    rmsd = utils.GetBestRMSD(gen_mol_list[7], test_data[n][3][i])\n",
    "    rmsd_list.append(rmsd)\n",
    "min(rmsd_list)\n",
    "    "
   ]
  },
  {
   "cell_type": "code",
   "execution_count": 39,
   "metadata": {},
   "outputs": [],
   "source": [
    "failed = 0\n",
    "valid = 0\n",
    "for gen_mol in generated_mol:\n",
    "    min_rmsd = 1000\n",
    "    for raw_ref_mol in test_data[0][3]:\n",
    "        ref_mol = RemoveHs(raw_ref_mol) \n",
    "        try:\n",
    "            rmsd = MA.GetBestRMS(gen_mol, ref_mol)\n",
    "            if rmsd<min_rmsd:\n",
    "                min_rmsd = rmsd\n",
    "        except:\n",
    "            pass\n",
    "    \n",
    "    if min_rmsd<=0.5:\n",
    "        valid+=1\n",
    "    elif min_rmsd==1000:\n",
    "        failed+=1\n",
    "        # print(Chem.MolToSmiles(ref_mol))\n",
    "        # print(Chem.MolToMolBlock(ref_mol))"
   ]
  },
  {
   "cell_type": "code",
   "execution_count": 1,
   "metadata": {},
   "outputs": [],
   "source": [
    "import pickle\n",
    "\n",
    "with open('/hpc2hdd/home/yli106/smiles2mol/GEOM/generated/inference_llama2_7b_chat.pkl', 'rb') as f:\n",
    "    test_data = pickle.load(f)"
   ]
  }
 ],
 "metadata": {
  "kernelspec": {
   "display_name": "Python 3.10.13 ('dsaa6800': conda)",
   "language": "python",
   "name": "python3"
  },
  "language_info": {
   "codemirror_mode": {
    "name": "ipython",
    "version": 3
   },
   "file_extension": ".py",
   "mimetype": "text/x-python",
   "name": "python",
   "nbconvert_exporter": "python",
   "pygments_lexer": "ipython3",
   "version": "3.10.13"
  },
  "orig_nbformat": 4,
  "vscode": {
   "interpreter": {
    "hash": "d6ce6e8a217c41fb4da55841c6f4fa84b93e38c08d9863917dcf321eba60ffb7"
   }
  }
 },
 "nbformat": 4,
 "nbformat_minor": 2
}
