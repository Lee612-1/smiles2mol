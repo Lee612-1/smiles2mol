{
 "cells": [
  {
   "cell_type": "code",
   "execution_count": 8,
   "metadata": {},
   "outputs": [],
   "source": [
    "import pandas as pd\n",
    "\n",
    "df = pd.read_csv('/hpc2hdd/home/yli106/smiles2mol/GEOM/qm9_processed/train_data_40k.csv')\n",
    "df = df[:1000]\n",
    "df.to_csv('/hpc2hdd/home/yli106/smiles2mol/GEOM/qm9_processed/train_demo.csv',index=False)\n"
   ]
  },
  {
   "cell_type": "code",
   "execution_count": 48,
   "metadata": {},
   "outputs": [],
   "source": [
    "df = pd.read_csv('/hpc2hdd/home/yli106/smiles2mol/GEOM/qm9_processed/val_data_5k.csv')\n",
    "df = df[:125]\n",
    "df.to_csv('/hpc2hdd/home/yli106/smiles2mol/GEOM/qm9_processed/val_demo.csv',index=False)"
   ]
  },
  {
   "cell_type": "code",
   "execution_count": 15,
   "metadata": {},
   "outputs": [],
   "source": [
    "import yaml\n",
    "from easydict import EasyDict\n",
    "\n",
    "with open('/hpc2hdd/home/yli106/smiles2mol/config/qm9_default.yml', 'r') as file:\n",
    "    config = yaml.safe_load(file)\n",
    "\n",
    "config = EasyDict(config)"
   ]
  },
  {
   "cell_type": "code",
   "execution_count": 4,
   "metadata": {},
   "outputs": [
    {
     "name": "stderr",
     "output_type": "stream",
     "text": [
      "100%|██████████| 24068/24068 [01:15<00:00, 317.69it/s]\n"
     ]
    },
    {
     "data": {
      "text/plain": [
       "1739"
      ]
     },
     "execution_count": 4,
     "metadata": {},
     "output_type": "execute_result"
    }
   ],
   "source": [
    "import os\n",
    "import torch\n",
    "from datasets import load_dataset\n",
    "from transformers import (\n",
    "    AutoModelForCausalLM,\n",
    "    AutoTokenizer,\n",
    "    BitsAndBytesConfig,\n",
    "    HfArgumentParser,\n",
    "    TrainingArguments,\n",
    "    pipeline,\n",
    "    logging,\n",
    ")\n",
    "from peft import LoraConfig, PeftModel\n",
    "from trl import SFTTrainer\n",
    "import argparse\n",
    "from easydict import EasyDict\n",
    "from tqdm import tqdm\n",
    "\n",
    "tokenizer = AutoTokenizer.from_pretrained(\"/hpc2hdd/home/yli106/smiles_3d/llama2_13b\", trust_remote_code=True, use_fast=False)\n",
    "tokenizer.pad_token = tokenizer.eos_token # Use the EOS token to pad shorter sequences\n",
    "tokenizer.padding_side = \"right\" # Fix weird overflow issue with fp16 training\n",
    "\n",
    "max_len = 0\n",
    "for i in tqdm(range(len(df))):\n",
    "    input_text = df['mol_block'][i]\n",
    "    input_ids = tokenizer.encode(input_text, return_tensors='pt')\n",
    "    if len(input_ids[0]) > max_len:\n",
    "        max_len = len(input_ids[0])\n",
    "max_len   "
   ]
  },
  {
   "cell_type": "code",
   "execution_count": 6,
   "metadata": {},
   "outputs": [
    {
     "data": {
      "text/plain": [
       "105"
      ]
     },
     "execution_count": 6,
     "metadata": {},
     "output_type": "execute_result"
    }
   ],
   "source": [
    "smiles = df['canonicalize_smiles'][10]\n",
    "system_prompt = 'Below is a SMILES of a molecule, generate its 3D structure. The molecule has 15 atoms and 15 bonds.'\n",
    "inst = '<s>[INST] <<SYS>>\\n' + system_prompt + '\\n<</SYS>>\\n\\n' + smiles + ' [/INST] '+' </s>'\n",
    "input_ids = tokenizer.encode(inst, return_tensors='pt')\n",
    "len(input_ids[0])"
   ]
  },
  {
   "cell_type": "code",
   "execution_count": 1,
   "metadata": {},
   "outputs": [],
   "source": [
    "import pickle\n",
    "\n",
    "with open('/hpc2hdd/home/yli106/smiles2mol/GEOM/qm9_processed/test_data_200.pkl', 'rb') as f:\n",
    "    test_data = pickle.load(f)"
   ]
  },
  {
   "cell_type": "code",
   "execution_count": 1,
   "metadata": {},
   "outputs": [],
   "source": [
    "import pandas as pd\n",
    "\n",
    "df = pd.read_csv('/hpc2hdd/home/yli106/smiles2mol/GEOM/qm9_processed/test_data_200.csv')"
   ]
  },
  {
   "cell_type": "code",
   "execution_count": 3,
   "metadata": {},
   "outputs": [
    {
     "data": {
      "text/html": [
       "<div>\n",
       "<style scoped>\n",
       "    .dataframe tbody tr th:only-of-type {\n",
       "        vertical-align: middle;\n",
       "    }\n",
       "\n",
       "    .dataframe tbody tr th {\n",
       "        vertical-align: top;\n",
       "    }\n",
       "\n",
       "    .dataframe thead th {\n",
       "        text-align: right;\n",
       "    }\n",
       "</style>\n",
       "<table border=\"1\" class=\"dataframe\">\n",
       "  <thead>\n",
       "    <tr style=\"text-align: right;\">\n",
       "      <th></th>\n",
       "      <th>smiles</th>\n",
       "      <th>canonicalize_smiles</th>\n",
       "      <th>num_atom</th>\n",
       "      <th>num_bond</th>\n",
       "      <th>mol_block</th>\n",
       "      <th>smiles_index</th>\n",
       "      <th>conformers_index</th>\n",
       "    </tr>\n",
       "  </thead>\n",
       "  <tbody>\n",
       "    <tr>\n",
       "      <th>0</th>\n",
       "      <td>C#CC(=O)[C@H](O)CCC</td>\n",
       "      <td>[H]C#CC(=O)[C@]([H])(O[H])C([H])([H])C([H])([H...</td>\n",
       "      <td>19</td>\n",
       "      <td>18</td>\n",
       "      <td>\\n     RDKit          3D\\n\\n 19 18  0  0  0  0...</td>\n",
       "      <td>0</td>\n",
       "      <td>0</td>\n",
       "    </tr>\n",
       "    <tr>\n",
       "      <th>1</th>\n",
       "      <td>C#CC(=O)[C@H](O)CCC</td>\n",
       "      <td>[H]C#CC(=O)[C@]([H])(O[H])C([H])([H])C([H])([H...</td>\n",
       "      <td>19</td>\n",
       "      <td>18</td>\n",
       "      <td>\\n     RDKit          3D\\n\\n 19 18  0  0  0  0...</td>\n",
       "      <td>0</td>\n",
       "      <td>1</td>\n",
       "    </tr>\n",
       "    <tr>\n",
       "      <th>2</th>\n",
       "      <td>C#CC(=O)[C@H](O)CCC</td>\n",
       "      <td>[H]C#CC(=O)[C@]([H])(O[H])C([H])([H])C([H])([H...</td>\n",
       "      <td>19</td>\n",
       "      <td>18</td>\n",
       "      <td>\\n     RDKit          3D\\n\\n 19 18  0  0  0  0...</td>\n",
       "      <td>0</td>\n",
       "      <td>2</td>\n",
       "    </tr>\n",
       "    <tr>\n",
       "      <th>3</th>\n",
       "      <td>C#CC(=O)[C@H](O)CCC</td>\n",
       "      <td>[H]C#CC(=O)[C@]([H])(O[H])C([H])([H])C([H])([H...</td>\n",
       "      <td>19</td>\n",
       "      <td>18</td>\n",
       "      <td>\\n     RDKit          3D\\n\\n 19 18  0  0  0  0...</td>\n",
       "      <td>0</td>\n",
       "      <td>3</td>\n",
       "    </tr>\n",
       "    <tr>\n",
       "      <th>4</th>\n",
       "      <td>C#CC(=O)[C@H](O)CCC</td>\n",
       "      <td>[H]C#CC(=O)[C@]([H])(O[H])C([H])([H])C([H])([H...</td>\n",
       "      <td>19</td>\n",
       "      <td>18</td>\n",
       "      <td>\\n     RDKit          3D\\n\\n 19 18  0  0  0  0...</td>\n",
       "      <td>0</td>\n",
       "      <td>4</td>\n",
       "    </tr>\n",
       "    <tr>\n",
       "      <th>...</th>\n",
       "      <td>...</td>\n",
       "      <td>...</td>\n",
       "      <td>...</td>\n",
       "      <td>...</td>\n",
       "      <td>...</td>\n",
       "      <td>...</td>\n",
       "      <td>...</td>\n",
       "    </tr>\n",
       "    <tr>\n",
       "      <th>24063</th>\n",
       "      <td>CO[C@H](C=O)CC(C)=O</td>\n",
       "      <td>[H]C(=O)[C@@]([H])(OC([H])([H])[H])C([H])([H])...</td>\n",
       "      <td>19</td>\n",
       "      <td>18</td>\n",
       "      <td>\\n     RDKit          3D\\n\\n 19 18  0  0  0  0...</td>\n",
       "      <td>199</td>\n",
       "      <td>52</td>\n",
       "    </tr>\n",
       "    <tr>\n",
       "      <th>24064</th>\n",
       "      <td>CO[C@H](C=O)CC(C)=O</td>\n",
       "      <td>[H]C(=O)[C@@]([H])(OC([H])([H])[H])C([H])([H])...</td>\n",
       "      <td>19</td>\n",
       "      <td>18</td>\n",
       "      <td>\\n     RDKit          3D\\n\\n 19 18  0  0  0  0...</td>\n",
       "      <td>199</td>\n",
       "      <td>53</td>\n",
       "    </tr>\n",
       "    <tr>\n",
       "      <th>24065</th>\n",
       "      <td>CO[C@H](C=O)CC(C)=O</td>\n",
       "      <td>[H]C(=O)[C@@]([H])(OC([H])([H])[H])C([H])([H])...</td>\n",
       "      <td>19</td>\n",
       "      <td>18</td>\n",
       "      <td>\\n     RDKit          3D\\n\\n 19 18  0  0  0  0...</td>\n",
       "      <td>199</td>\n",
       "      <td>54</td>\n",
       "    </tr>\n",
       "    <tr>\n",
       "      <th>24066</th>\n",
       "      <td>CO[C@H](C=O)CC(C)=O</td>\n",
       "      <td>[H]C(=O)[C@@]([H])(OC([H])([H])[H])C([H])([H])...</td>\n",
       "      <td>19</td>\n",
       "      <td>18</td>\n",
       "      <td>\\n     RDKit          3D\\n\\n 19 18  0  0  0  0...</td>\n",
       "      <td>199</td>\n",
       "      <td>55</td>\n",
       "    </tr>\n",
       "    <tr>\n",
       "      <th>24067</th>\n",
       "      <td>CO[C@H](C=O)CC(C)=O</td>\n",
       "      <td>[H]C(=O)[C@@]([H])(OC([H])([H])[H])C([H])([H])...</td>\n",
       "      <td>19</td>\n",
       "      <td>18</td>\n",
       "      <td>\\n     RDKit          3D\\n\\n 19 18  0  0  0  0...</td>\n",
       "      <td>199</td>\n",
       "      <td>56</td>\n",
       "    </tr>\n",
       "  </tbody>\n",
       "</table>\n",
       "<p>24068 rows × 7 columns</p>\n",
       "</div>"
      ],
      "text/plain": [
       "                    smiles                                canonicalize_smiles  \\\n",
       "0      C#CC(=O)[C@H](O)CCC  [H]C#CC(=O)[C@]([H])(O[H])C([H])([H])C([H])([H...   \n",
       "1      C#CC(=O)[C@H](O)CCC  [H]C#CC(=O)[C@]([H])(O[H])C([H])([H])C([H])([H...   \n",
       "2      C#CC(=O)[C@H](O)CCC  [H]C#CC(=O)[C@]([H])(O[H])C([H])([H])C([H])([H...   \n",
       "3      C#CC(=O)[C@H](O)CCC  [H]C#CC(=O)[C@]([H])(O[H])C([H])([H])C([H])([H...   \n",
       "4      C#CC(=O)[C@H](O)CCC  [H]C#CC(=O)[C@]([H])(O[H])C([H])([H])C([H])([H...   \n",
       "...                    ...                                                ...   \n",
       "24063  CO[C@H](C=O)CC(C)=O  [H]C(=O)[C@@]([H])(OC([H])([H])[H])C([H])([H])...   \n",
       "24064  CO[C@H](C=O)CC(C)=O  [H]C(=O)[C@@]([H])(OC([H])([H])[H])C([H])([H])...   \n",
       "24065  CO[C@H](C=O)CC(C)=O  [H]C(=O)[C@@]([H])(OC([H])([H])[H])C([H])([H])...   \n",
       "24066  CO[C@H](C=O)CC(C)=O  [H]C(=O)[C@@]([H])(OC([H])([H])[H])C([H])([H])...   \n",
       "24067  CO[C@H](C=O)CC(C)=O  [H]C(=O)[C@@]([H])(OC([H])([H])[H])C([H])([H])...   \n",
       "\n",
       "       num_atom  num_bond                                          mol_block  \\\n",
       "0            19        18  \\n     RDKit          3D\\n\\n 19 18  0  0  0  0...   \n",
       "1            19        18  \\n     RDKit          3D\\n\\n 19 18  0  0  0  0...   \n",
       "2            19        18  \\n     RDKit          3D\\n\\n 19 18  0  0  0  0...   \n",
       "3            19        18  \\n     RDKit          3D\\n\\n 19 18  0  0  0  0...   \n",
       "4            19        18  \\n     RDKit          3D\\n\\n 19 18  0  0  0  0...   \n",
       "...         ...       ...                                                ...   \n",
       "24063        19        18  \\n     RDKit          3D\\n\\n 19 18  0  0  0  0...   \n",
       "24064        19        18  \\n     RDKit          3D\\n\\n 19 18  0  0  0  0...   \n",
       "24065        19        18  \\n     RDKit          3D\\n\\n 19 18  0  0  0  0...   \n",
       "24066        19        18  \\n     RDKit          3D\\n\\n 19 18  0  0  0  0...   \n",
       "24067        19        18  \\n     RDKit          3D\\n\\n 19 18  0  0  0  0...   \n",
       "\n",
       "       smiles_index  conformers_index  \n",
       "0                 0                 0  \n",
       "1                 0                 1  \n",
       "2                 0                 2  \n",
       "3                 0                 3  \n",
       "4                 0                 4  \n",
       "...             ...               ...  \n",
       "24063           199                52  \n",
       "24064           199                53  \n",
       "24065           199                54  \n",
       "24066           199                55  \n",
       "24067           199                56  \n",
       "\n",
       "[24068 rows x 7 columns]"
      ]
     },
     "execution_count": 3,
     "metadata": {},
     "output_type": "execute_result"
    }
   ],
   "source": [
    "df"
   ]
  },
  {
   "cell_type": "code",
   "execution_count": 1,
   "metadata": {},
   "outputs": [
    {
     "data": {
      "application/vnd.jupyter.widget-view+json": {
       "model_id": "eebbba50d38f4023ac1f28b63e87538b",
       "version_major": 2,
       "version_minor": 0
      },
      "text/plain": [
       "vocab.json: 0.00B [00:00, ?B/s]"
      ]
     },
     "metadata": {},
     "output_type": "display_data"
    },
    {
     "data": {
      "application/vnd.jupyter.widget-view+json": {
       "model_id": "9505dce257a642559d3b4e8b8ae49e27",
       "version_major": 2,
       "version_minor": 0
      },
      "text/plain": [
       "merges.txt: 0.00B [00:00, ?B/s]"
      ]
     },
     "metadata": {},
     "output_type": "display_data"
    },
    {
     "data": {
      "application/vnd.jupyter.widget-view+json": {
       "model_id": "3a4a0ecfbfcf42f4a987a84ada813c23",
       "version_major": 2,
       "version_minor": 0
      },
      "text/plain": [
       "tokenizer_config.json:   0%|          | 0.00/26.0 [00:00<?, ?B/s]"
      ]
     },
     "metadata": {},
     "output_type": "display_data"
    },
    {
     "data": {
      "application/vnd.jupyter.widget-view+json": {
       "model_id": "beeef8e0a2854836b4ca72e8ac7fc0ae",
       "version_major": 2,
       "version_minor": 0
      },
      "text/plain": [
       "config.json:   0%|          | 0.00/367 [00:00<?, ?B/s]"
      ]
     },
     "metadata": {},
     "output_type": "display_data"
    }
   ],
   "source": [
    "from transformers import GPT2Tokenizer\n",
    "\n",
    "tokenizer = GPT2Tokenizer.from_pretrained('gpt2')\n",
    "\n",
    "def preprocess(text):\n",
    "    encoding = tokenizer.encode_plus(text, truncation=True, padding=True, return_tensors='pt')\n",
    "    input_ids = encoding['input_ids']\n",
    "    attention_mask = encoding['attention_mask']\n",
    "    return input_ids, attention_mask\n"
   ]
  },
  {
   "cell_type": "code",
   "execution_count": 9,
   "metadata": {},
   "outputs": [],
   "source": [
    "from transformers import AutoTokenizer\n",
    "\n",
    "tokenizer = AutoTokenizer.from_pretrained(\"/hpc2hdd/home/yli106/smiles_3d/gpt2\")\n"
   ]
  },
  {
   "cell_type": "code",
   "execution_count": 12,
   "metadata": {},
   "outputs": [
    {
     "data": {
      "text/plain": [
       "Dataset({\n",
       "    features: ['text'],\n",
       "    num_rows: 1000\n",
       "})"
      ]
     },
     "execution_count": 12,
     "metadata": {},
     "output_type": "execute_result"
    }
   ],
   "source": [
    "import pandas as pd\n",
    "from datasets import Dataset \n",
    "df = pd.read_csv('/hpc2hdd/home/yli106/smiles2mol/GEOM/qm9_processed/train_demo.csv')\n",
    "train_dataset = Dataset.from_pandas(df[['text']])\n",
    "test_dataset = train_dataset\n",
    "train_dataset"
   ]
  },
  {
   "cell_type": "code",
   "execution_count": 7,
   "metadata": {},
   "outputs": [],
   "source": [
    "from concurrent.futures import ThreadPoolExecutor"
   ]
  },
  {
   "cell_type": "code",
   "execution_count": 8,
   "metadata": {},
   "outputs": [
    {
     "name": "stdout",
     "output_type": "stream",
     "text": [
      "系统中的GPU个数为： 0\n"
     ]
    }
   ],
   "source": [
    "import torch\n",
    "\n",
    "gpu_count = torch.cuda.device_count()\n",
    "print(\"系统中的GPU个数为：\", gpu_count)"
   ]
  },
  {
   "cell_type": "code",
   "execution_count": 10,
   "metadata": {},
   "outputs": [],
   "source": [
    "texts_to_generate = [\n",
    "    \"Text 1\", \"Text 2\", \"Text 3\", \"Text 4\",\n",
    "    \"Text 5\", \"Text 6\", [\"Text 7\", \"Text 8\"],\n",
    "    \"Text 9\", [\"Text 10\"]\n",
    "]\n",
    "\n",
    "# 计算需要分配到每个 GPU 的文本数量\n",
    "num_gpus = 4\n",
    "texts_per_gpu_floor = len(texts_to_generate) // num_gpus\n",
    "texts_per_gpu_remainder = len(texts_to_generate) % num_gpus\n",
    "\n",
    "# 创建一个列表，包含每个 GPU 分配的文本数量\n",
    "texts_per_gpu_list = [texts_per_gpu_floor + 1 if i < texts_per_gpu_remainder else texts_per_gpu_floor for i in range(num_gpus)]"
   ]
  },
  {
   "cell_type": "code",
   "execution_count": 11,
   "metadata": {},
   "outputs": [],
   "source": [
    "start = 0\n",
    "sublists = []\n",
    "for i in range(num_gpus):\n",
    "    end = start + texts_per_gpu_list[i]\n",
    "    sublist = texts_to_generate[start:end]\n",
    "    sublists.append(sublist)\n",
    "    start = end"
   ]
  },
  {
   "cell_type": "code",
   "execution_count": 12,
   "metadata": {},
   "outputs": [
    {
     "data": {
      "text/plain": [
       "[['Text 1', 'Text 2', 'Text 3'],\n",
       " ['Text 4', 'Text 5'],\n",
       " ['Text 6', ['Text 7', 'Text 8']],\n",
       " ['Text 9', ['Text 10']]]"
      ]
     },
     "execution_count": 12,
     "metadata": {},
     "output_type": "execute_result"
    }
   ],
   "source": [
    "sublists"
   ]
  },
  {
   "cell_type": "code",
   "execution_count": 13,
   "metadata": {},
   "outputs": [
    {
     "name": "stdout",
     "output_type": "stream",
     "text": [
      "4\n"
     ]
    }
   ],
   "source": [
    "i=1\n",
    "def ke(j):\n",
    "    print(j+i)\n",
    "\n",
    "ke(3)"
   ]
  }
 ],
 "metadata": {
  "kernelspec": {
   "display_name": "Python 3.10.13 ('dsaa6800': conda)",
   "language": "python",
   "name": "python3"
  },
  "language_info": {
   "codemirror_mode": {
    "name": "ipython",
    "version": 3
   },
   "file_extension": ".py",
   "mimetype": "text/x-python",
   "name": "python",
   "nbconvert_exporter": "python",
   "pygments_lexer": "ipython3",
   "version": "3.10.13"
  },
  "orig_nbformat": 4,
  "vscode": {
   "interpreter": {
    "hash": "d6ce6e8a217c41fb4da55841c6f4fa84b93e38c08d9863917dcf321eba60ffb7"
   }
  }
 },
 "nbformat": 4,
 "nbformat_minor": 2
}
