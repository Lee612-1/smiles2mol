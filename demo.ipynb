{
 "cells": [
  {
   "cell_type": "code",
   "execution_count": 8,
   "metadata": {},
   "outputs": [],
   "source": [
    "import pandas as pd\n",
    "\n",
    "df = pd.read_csv('/hpc2hdd/home/yli106/smiles2mol/GEOM/qm9_processed/train_data_40k.csv')\n",
    "df = df[:1000]\n",
    "df.to_csv('/hpc2hdd/home/yli106/smiles2mol/GEOM/qm9_processed/train_demo.csv',index=False)\n"
   ]
  },
  {
   "cell_type": "code",
   "execution_count": 48,
   "metadata": {},
   "outputs": [],
   "source": [
    "df = pd.read_csv('/hpc2hdd/home/yli106/smiles2mol/GEOM/qm9_processed/val_data_5k.csv')\n",
    "df = df[:125]\n",
    "df.to_csv('/hpc2hdd/home/yli106/smiles2mol/GEOM/qm9_processed/val_demo.csv',index=False)"
   ]
  },
  {
   "cell_type": "code",
   "execution_count": 15,
   "metadata": {},
   "outputs": [],
   "source": [
    "import yaml\n",
    "from easydict import EasyDict\n",
    "\n",
    "with open('/hpc2hdd/home/yli106/smiles2mol/config/qm9_default.yml', 'r') as file:\n",
    "    config = yaml.safe_load(file)\n",
    "\n",
    "config = EasyDict(config)"
   ]
  },
  {
   "cell_type": "code",
   "execution_count": 4,
   "metadata": {},
   "outputs": [
    {
     "name": "stderr",
     "output_type": "stream",
     "text": [
      "100%|██████████| 24068/24068 [01:15<00:00, 317.69it/s]\n"
     ]
    },
    {
     "data": {
      "text/plain": [
       "1739"
      ]
     },
     "execution_count": 4,
     "metadata": {},
     "output_type": "execute_result"
    }
   ],
   "source": [
    "import os\n",
    "import torch\n",
    "from datasets import load_dataset\n",
    "from transformers import (\n",
    "    AutoModelForCausalLM,\n",
    "    AutoTokenizer,\n",
    "    BitsAndBytesConfig,\n",
    "    HfArgumentParser,\n",
    "    TrainingArguments,\n",
    "    pipeline,\n",
    "    logging,\n",
    ")\n",
    "from peft import LoraConfig, PeftModel\n",
    "from trl import SFTTrainer\n",
    "import argparse\n",
    "from easydict import EasyDict\n",
    "from tqdm import tqdm\n",
    "\n",
    "tokenizer = AutoTokenizer.from_pretrained(\"/hpc2hdd/home/yli106/smiles_3d/llama2_13b\", trust_remote_code=True, use_fast=False)\n",
    "tokenizer.pad_token = tokenizer.eos_token # Use the EOS token to pad shorter sequences\n",
    "tokenizer.padding_side = \"right\" # Fix weird overflow issue with fp16 training\n",
    "\n",
    "max_len = 0\n",
    "for i in tqdm(range(len(df))):\n",
    "    input_text = df['mol_block'][i]\n",
    "    input_ids = tokenizer.encode(input_text, return_tensors='pt')\n",
    "    if len(input_ids[0]) > max_len:\n",
    "        max_len = len(input_ids[0])\n",
    "max_len   "
   ]
  },
  {
   "cell_type": "code",
   "execution_count": 6,
   "metadata": {},
   "outputs": [
    {
     "data": {
      "text/plain": [
       "105"
      ]
     },
     "execution_count": 6,
     "metadata": {},
     "output_type": "execute_result"
    }
   ],
   "source": [
    "smiles = df['canonicalize_smiles'][10]\n",
    "system_prompt = 'Below is a SMILES of a molecule, generate its 3D structure. The molecule has 15 atoms and 15 bonds.'\n",
    "inst = '<s>[INST] <<SYS>>\\n' + system_prompt + '\\n<</SYS>>\\n\\n' + smiles + ' [/INST] '+' </s>'\n",
    "input_ids = tokenizer.encode(inst, return_tensors='pt')\n",
    "len(input_ids[0])"
   ]
  },
  {
   "cell_type": "code",
   "execution_count": 1,
   "metadata": {},
   "outputs": [],
   "source": [
    "import pickle\n",
    "\n",
    "with open('/hpc2hdd/home/yli106/smiles2mol/GEOM/qm9_processed/test_data_200.pkl', 'rb') as f:\n",
    "    test_data = pickle.load(f)"
   ]
  },
  {
   "cell_type": "code",
   "execution_count": 1,
   "metadata": {},
   "outputs": [],
   "source": [
    "import pandas as pd\n",
    "\n",
    "df = pd.read_csv('/hpc2hdd/home/yli106/smiles2mol/GEOM/qm9_processed/test_data_200.csv')"
   ]
  },
  {
   "cell_type": "code",
   "execution_count": 3,
   "metadata": {},
   "outputs": [
    {
     "name": "stdout",
     "output_type": "stream",
     "text": [
      "\n",
      "     RDKit          3D\n",
      "\n",
      " 22 22  0  0  0  0  0  0  0  0999 V2000\n",
      "   -2.8596   -0.5041    0.9348 C   0  0  0  0  0  0  0  0  0  0  0  0\n",
      "   -2.4971    0.2893   -0.2109 N   0  0  0  0  0  0  0  0  0  0  0  0\n",
      "   -1.7674    1.5159   -0.0341 C   0  0  0  0  0  0  0  0  0  0  0  0\n",
      "   -1.1387    0.3437   -0.6870 C   0  0  1  0  0  0  0  0  0  0  0  0\n",
      "    0.0167   -0.3815   -0.0217 C   0  0  2  0  0  0  0  0  0  0  0  0\n",
      "    1.3329    0.3414   -0.3476 C   0  0  0  0  0  0  0  0  0  0  0  0\n",
      "    2.4986   -0.1404    0.5203 C   0  0  0  0  0  0  0  0  0  0  0  0\n",
      "    3.7169    0.4716    0.1787 O   0  0  0  0  0  0  0  0  0  0  0  0\n",
      "    3.6131    1.4282    0.2342 H   0  0  0  0  0  0  0  0  0  0  0  0\n",
      "    2.6753   -1.2105    0.3795 H   0  0  0  0  0  0  0  0  0  0  0  0\n",
      "    2.2647    0.0338    1.5828 H   0  0  0  0  0  0  0  0  0  0  0  0\n",
      "    1.1906    1.4142   -0.1927 H   0  0  0  0  0  0  0  0  0  0  0  0\n",
      "    1.5744    0.1770   -1.3996 H   0  0  0  0  0  0  0  0  0  0  0  0\n",
      "   -0.1206   -0.3811    1.0728 H   0  0  0  0  0  0  0  0  0  0  0  0\n",
      "    0.0051   -1.7077   -0.5033 O   0  0  0  0  0  0  0  0  0  0  0  0\n",
      "    0.7838   -2.1717   -0.1785 H   0  0  0  0  0  0  0  0  0  0  0  0\n",
      "   -1.0653    0.3272   -1.7699 H   0  0  0  0  0  0  0  0  0  0  0  0\n",
      "   -2.0998    2.3545   -0.6302 H   0  0  0  0  0  0  0  0  0  0  0  0\n",
      "   -1.4271    1.7786    0.9646 H   0  0  0  0  0  0  0  0  0  0  0  0\n",
      "   -2.7897   -1.5564    0.6628 H   0  0  0  0  0  0  0  0  0  0  0  0\n",
      "   -3.8943   -0.2714    1.1883 H   0  0  0  0  0  0  0  0  0  0  0  0\n",
      "   -2.2373   -0.3230    1.8216 H   0  0  0  0  0  0  0  0  0  0  0  0\n",
      "  1  2  1  0\n",
      "  1 20  1  0\n",
      "  1 21  1  0\n",
      "  1 22  1  0\n",
      "  2  3  1  0\n",
      "  2  4  1  0\n",
      "  3  4  1  0\n",
      "  3 18  1  0\n",
      "  3 19  1  0\n",
      "  4  5  1  0\n",
      "  4 17  1  6\n",
      "  5  6  1  0\n",
      "  5 14  1  1\n",
      "  5 15  1  0\n",
      "  6  7  1  0\n",
      "  6 12  1  0\n",
      "  6 13  1  0\n",
      "  7  8  1  0\n",
      "  7 10  1  0\n",
      "  7 11  1  0\n",
      "  8  9  1  0\n",
      " 15 16  1  0\n",
      "M  END\n",
      "\n"
     ]
    }
   ],
   "source": [
    "print(df['mol_block'][1000])"
   ]
  },
  {
   "cell_type": "code",
   "execution_count": 1,
   "metadata": {},
   "outputs": [
    {
     "data": {
      "application/vnd.jupyter.widget-view+json": {
       "model_id": "eebbba50d38f4023ac1f28b63e87538b",
       "version_major": 2,
       "version_minor": 0
      },
      "text/plain": [
       "vocab.json: 0.00B [00:00, ?B/s]"
      ]
     },
     "metadata": {},
     "output_type": "display_data"
    },
    {
     "data": {
      "application/vnd.jupyter.widget-view+json": {
       "model_id": "9505dce257a642559d3b4e8b8ae49e27",
       "version_major": 2,
       "version_minor": 0
      },
      "text/plain": [
       "merges.txt: 0.00B [00:00, ?B/s]"
      ]
     },
     "metadata": {},
     "output_type": "display_data"
    },
    {
     "data": {
      "application/vnd.jupyter.widget-view+json": {
       "model_id": "3a4a0ecfbfcf42f4a987a84ada813c23",
       "version_major": 2,
       "version_minor": 0
      },
      "text/plain": [
       "tokenizer_config.json:   0%|          | 0.00/26.0 [00:00<?, ?B/s]"
      ]
     },
     "metadata": {},
     "output_type": "display_data"
    },
    {
     "data": {
      "application/vnd.jupyter.widget-view+json": {
       "model_id": "beeef8e0a2854836b4ca72e8ac7fc0ae",
       "version_major": 2,
       "version_minor": 0
      },
      "text/plain": [
       "config.json:   0%|          | 0.00/367 [00:00<?, ?B/s]"
      ]
     },
     "metadata": {},
     "output_type": "display_data"
    }
   ],
   "source": [
    "from transformers import GPT2Tokenizer\n",
    "\n",
    "tokenizer = GPT2Tokenizer.from_pretrained('gpt2')\n",
    "\n",
    "def preprocess(text):\n",
    "    encoding = tokenizer.encode_plus(text, truncation=True, padding=True, return_tensors='pt')\n",
    "    input_ids = encoding['input_ids']\n",
    "    attention_mask = encoding['attention_mask']\n",
    "    return input_ids, attention_mask\n"
   ]
  },
  {
   "cell_type": "code",
   "execution_count": 9,
   "metadata": {},
   "outputs": [],
   "source": [
    "from transformers import AutoTokenizer\n",
    "\n",
    "tokenizer = AutoTokenizer.from_pretrained(\"/hpc2hdd/home/yli106/smiles_3d/gpt2\")\n"
   ]
  },
  {
   "cell_type": "code",
   "execution_count": 12,
   "metadata": {},
   "outputs": [
    {
     "data": {
      "text/plain": [
       "Dataset({\n",
       "    features: ['text'],\n",
       "    num_rows: 1000\n",
       "})"
      ]
     },
     "execution_count": 12,
     "metadata": {},
     "output_type": "execute_result"
    }
   ],
   "source": [
    "import pandas as pd\n",
    "from datasets import Dataset \n",
    "df = pd.read_csv('/hpc2hdd/home/yli106/smiles2mol/GEOM/qm9_processed/train_demo.csv')\n",
    "train_dataset = Dataset.from_pandas(df[['text']])\n",
    "test_dataset = train_dataset\n",
    "train_dataset"
   ]
  },
  {
   "cell_type": "code",
   "execution_count": 4,
   "metadata": {},
   "outputs": [
    {
     "data": {
      "application/vnd.jupyter.widget-view+json": {
       "model_id": "0b53b9fd811943f8bb2babc23d7d0aed",
       "version_major": 2,
       "version_minor": 0
      },
      "text/plain": [
       "Loading checkpoint shards:   0%|          | 0/2 [00:00<?, ?it/s]"
      ]
     },
     "metadata": {},
     "output_type": "display_data"
    }
   ],
   "source": [
    "from transformers import (\n",
    "    AutoModelForCausalLM,\n",
    "    AutoTokenizer,\n",
    "    BitsAndBytesConfig,\n",
    "    HfArgumentParser,\n",
    "    TrainingArguments,\n",
    "    pipeline,\n",
    "    logging,\n",
    ")\n",
    "\n",
    "model = AutoModelForCausalLM.from_pretrained(\n",
    "    \"/hpc2hdd/home/yli106/smiles_3d/llama2_7b_chat\",\n",
    "    # quantization_config=bnb_config,\n",
    "    device_map= \"auto\"\n",
    ")\n",
    "model.config.use_cache = False\n",
    "model.config.pretraining_tp = 1"
   ]
  },
  {
   "cell_type": "code",
   "execution_count": 6,
   "metadata": {},
   "outputs": [
    {
     "data": {
      "text/html": [
       "<div>\n",
       "<style scoped>\n",
       "    .dataframe tbody tr th:only-of-type {\n",
       "        vertical-align: middle;\n",
       "    }\n",
       "\n",
       "    .dataframe tbody tr th {\n",
       "        vertical-align: top;\n",
       "    }\n",
       "\n",
       "    .dataframe thead th {\n",
       "        text-align: right;\n",
       "    }\n",
       "</style>\n",
       "<table border=\"1\" class=\"dataframe\">\n",
       "  <thead>\n",
       "    <tr style=\"text-align: right;\">\n",
       "      <th></th>\n",
       "      <th>smiles</th>\n",
       "      <th>canonicalize_smiles</th>\n",
       "      <th>num_atom</th>\n",
       "      <th>num_bond</th>\n",
       "      <th>mol_block</th>\n",
       "      <th>text</th>\n",
       "    </tr>\n",
       "  </thead>\n",
       "  <tbody>\n",
       "    <tr>\n",
       "      <th>0</th>\n",
       "      <td>C[C@@]1(N2CC2)C[C@H]1O</td>\n",
       "      <td>[H]O[C@]1([H])C([H])([H])[C@]1(N1C([H])([H])C1...</td>\n",
       "      <td>19</td>\n",
       "      <td>20</td>\n",
       "      <td>\\n     RDKit          3D\\n\\n 19 20  0  0  0  0...</td>\n",
       "      <td>&lt;s&gt;[INST] &lt;&lt;SYS&gt;&gt;\\nBelow is a SMILES of a mole...</td>\n",
       "    </tr>\n",
       "    <tr>\n",
       "      <th>1</th>\n",
       "      <td>C[C@@]1(N2CC2)C[C@H]1O</td>\n",
       "      <td>[H]O[C@]1([H])C([H])([H])[C@]1(N1C([H])([H])C1...</td>\n",
       "      <td>19</td>\n",
       "      <td>20</td>\n",
       "      <td>\\n     RDKit          3D\\n\\n 19 20  0  0  0  0...</td>\n",
       "      <td>&lt;s&gt;[INST] &lt;&lt;SYS&gt;&gt;\\nBelow is a SMILES of a mole...</td>\n",
       "    </tr>\n",
       "    <tr>\n",
       "      <th>2</th>\n",
       "      <td>C[C@@]1(N2CC2)C[C@H]1O</td>\n",
       "      <td>[H]O[C@]1([H])C([H])([H])[C@]1(N1C([H])([H])C1...</td>\n",
       "      <td>19</td>\n",
       "      <td>20</td>\n",
       "      <td>\\n     RDKit          3D\\n\\n 19 20  0  0  0  0...</td>\n",
       "      <td>&lt;s&gt;[INST] &lt;&lt;SYS&gt;&gt;\\nBelow is a SMILES of a mole...</td>\n",
       "    </tr>\n",
       "    <tr>\n",
       "      <th>3</th>\n",
       "      <td>C[C@@]1(N2CC2)C[C@H]1O</td>\n",
       "      <td>[H]O[C@]1([H])C([H])([H])[C@]1(N1C([H])([H])C1...</td>\n",
       "      <td>19</td>\n",
       "      <td>20</td>\n",
       "      <td>\\n     RDKit          3D\\n\\n 19 20  0  0  0  0...</td>\n",
       "      <td>&lt;s&gt;[INST] &lt;&lt;SYS&gt;&gt;\\nBelow is a SMILES of a mole...</td>\n",
       "    </tr>\n",
       "    <tr>\n",
       "      <th>4</th>\n",
       "      <td>C[C@@]1(N2CC2)C[C@H]1O</td>\n",
       "      <td>[H]O[C@]1([H])C([H])([H])[C@]1(N1C([H])([H])C1...</td>\n",
       "      <td>19</td>\n",
       "      <td>20</td>\n",
       "      <td>\\n     RDKit          3D\\n\\n 19 20  0  0  0  0...</td>\n",
       "      <td>&lt;s&gt;[INST] &lt;&lt;SYS&gt;&gt;\\nBelow is a SMILES of a mole...</td>\n",
       "    </tr>\n",
       "    <tr>\n",
       "      <th>...</th>\n",
       "      <td>...</td>\n",
       "      <td>...</td>\n",
       "      <td>...</td>\n",
       "      <td>...</td>\n",
       "      <td>...</td>\n",
       "      <td>...</td>\n",
       "    </tr>\n",
       "    <tr>\n",
       "      <th>199995</th>\n",
       "      <td>N[C@H]1COCOC1=O</td>\n",
       "      <td>[H]N([H])[C@]1([H])C(=O)OC([H])([H])OC1([H])[H]</td>\n",
       "      <td>15</td>\n",
       "      <td>15</td>\n",
       "      <td>\\n     RDKit          3D\\n\\n 15 15  0  0  0  0...</td>\n",
       "      <td>&lt;s&gt;[INST] &lt;&lt;SYS&gt;&gt;\\nBelow is a SMILES of a mole...</td>\n",
       "    </tr>\n",
       "    <tr>\n",
       "      <th>199996</th>\n",
       "      <td>N[C@H]1COCOC1=O</td>\n",
       "      <td>[H]N([H])[C@]1([H])C(=O)OC([H])([H])OC1([H])[H]</td>\n",
       "      <td>15</td>\n",
       "      <td>15</td>\n",
       "      <td>\\n     RDKit          3D\\n\\n 15 15  0  0  0  0...</td>\n",
       "      <td>&lt;s&gt;[INST] &lt;&lt;SYS&gt;&gt;\\nBelow is a SMILES of a mole...</td>\n",
       "    </tr>\n",
       "    <tr>\n",
       "      <th>199997</th>\n",
       "      <td>N[C@H]1COCOC1=O</td>\n",
       "      <td>[H]N([H])[C@]1([H])C(=O)OC([H])([H])OC1([H])[H]</td>\n",
       "      <td>15</td>\n",
       "      <td>15</td>\n",
       "      <td>\\n     RDKit          3D\\n\\n 15 15  0  0  0  0...</td>\n",
       "      <td>&lt;s&gt;[INST] &lt;&lt;SYS&gt;&gt;\\nBelow is a SMILES of a mole...</td>\n",
       "    </tr>\n",
       "    <tr>\n",
       "      <th>199998</th>\n",
       "      <td>N[C@H]1COCOC1=O</td>\n",
       "      <td>[H]N([H])[C@]1([H])C(=O)OC([H])([H])OC1([H])[H]</td>\n",
       "      <td>15</td>\n",
       "      <td>15</td>\n",
       "      <td>\\n     RDKit          3D\\n\\n 15 15  0  0  0  0...</td>\n",
       "      <td>&lt;s&gt;[INST] &lt;&lt;SYS&gt;&gt;\\nBelow is a SMILES of a mole...</td>\n",
       "    </tr>\n",
       "    <tr>\n",
       "      <th>199999</th>\n",
       "      <td>N[C@H]1COCOC1=O</td>\n",
       "      <td>[H]N([H])[C@]1([H])C(=O)OC([H])([H])OC1([H])[H]</td>\n",
       "      <td>15</td>\n",
       "      <td>15</td>\n",
       "      <td>\\n     RDKit          3D\\n\\n 15 15  0  0  0  0...</td>\n",
       "      <td>&lt;s&gt;[INST] &lt;&lt;SYS&gt;&gt;\\nBelow is a SMILES of a mole...</td>\n",
       "    </tr>\n",
       "  </tbody>\n",
       "</table>\n",
       "<p>200000 rows × 6 columns</p>\n",
       "</div>"
      ],
      "text/plain": [
       "                        smiles  \\\n",
       "0       C[C@@]1(N2CC2)C[C@H]1O   \n",
       "1       C[C@@]1(N2CC2)C[C@H]1O   \n",
       "2       C[C@@]1(N2CC2)C[C@H]1O   \n",
       "3       C[C@@]1(N2CC2)C[C@H]1O   \n",
       "4       C[C@@]1(N2CC2)C[C@H]1O   \n",
       "...                        ...   \n",
       "199995         N[C@H]1COCOC1=O   \n",
       "199996         N[C@H]1COCOC1=O   \n",
       "199997         N[C@H]1COCOC1=O   \n",
       "199998         N[C@H]1COCOC1=O   \n",
       "199999         N[C@H]1COCOC1=O   \n",
       "\n",
       "                                      canonicalize_smiles  num_atom  num_bond  \\\n",
       "0       [H]O[C@]1([H])C([H])([H])[C@]1(N1C([H])([H])C1...        19        20   \n",
       "1       [H]O[C@]1([H])C([H])([H])[C@]1(N1C([H])([H])C1...        19        20   \n",
       "2       [H]O[C@]1([H])C([H])([H])[C@]1(N1C([H])([H])C1...        19        20   \n",
       "3       [H]O[C@]1([H])C([H])([H])[C@]1(N1C([H])([H])C1...        19        20   \n",
       "4       [H]O[C@]1([H])C([H])([H])[C@]1(N1C([H])([H])C1...        19        20   \n",
       "...                                                   ...       ...       ...   \n",
       "199995    [H]N([H])[C@]1([H])C(=O)OC([H])([H])OC1([H])[H]        15        15   \n",
       "199996    [H]N([H])[C@]1([H])C(=O)OC([H])([H])OC1([H])[H]        15        15   \n",
       "199997    [H]N([H])[C@]1([H])C(=O)OC([H])([H])OC1([H])[H]        15        15   \n",
       "199998    [H]N([H])[C@]1([H])C(=O)OC([H])([H])OC1([H])[H]        15        15   \n",
       "199999    [H]N([H])[C@]1([H])C(=O)OC([H])([H])OC1([H])[H]        15        15   \n",
       "\n",
       "                                                mol_block  \\\n",
       "0       \\n     RDKit          3D\\n\\n 19 20  0  0  0  0...   \n",
       "1       \\n     RDKit          3D\\n\\n 19 20  0  0  0  0...   \n",
       "2       \\n     RDKit          3D\\n\\n 19 20  0  0  0  0...   \n",
       "3       \\n     RDKit          3D\\n\\n 19 20  0  0  0  0...   \n",
       "4       \\n     RDKit          3D\\n\\n 19 20  0  0  0  0...   \n",
       "...                                                   ...   \n",
       "199995  \\n     RDKit          3D\\n\\n 15 15  0  0  0  0...   \n",
       "199996  \\n     RDKit          3D\\n\\n 15 15  0  0  0  0...   \n",
       "199997  \\n     RDKit          3D\\n\\n 15 15  0  0  0  0...   \n",
       "199998  \\n     RDKit          3D\\n\\n 15 15  0  0  0  0...   \n",
       "199999  \\n     RDKit          3D\\n\\n 15 15  0  0  0  0...   \n",
       "\n",
       "                                                     text  \n",
       "0       <s>[INST] <<SYS>>\\nBelow is a SMILES of a mole...  \n",
       "1       <s>[INST] <<SYS>>\\nBelow is a SMILES of a mole...  \n",
       "2       <s>[INST] <<SYS>>\\nBelow is a SMILES of a mole...  \n",
       "3       <s>[INST] <<SYS>>\\nBelow is a SMILES of a mole...  \n",
       "4       <s>[INST] <<SYS>>\\nBelow is a SMILES of a mole...  \n",
       "...                                                   ...  \n",
       "199995  <s>[INST] <<SYS>>\\nBelow is a SMILES of a mole...  \n",
       "199996  <s>[INST] <<SYS>>\\nBelow is a SMILES of a mole...  \n",
       "199997  <s>[INST] <<SYS>>\\nBelow is a SMILES of a mole...  \n",
       "199998  <s>[INST] <<SYS>>\\nBelow is a SMILES of a mole...  \n",
       "199999  <s>[INST] <<SYS>>\\nBelow is a SMILES of a mole...  \n",
       "\n",
       "[200000 rows x 6 columns]"
      ]
     },
     "execution_count": 6,
     "metadata": {},
     "output_type": "execute_result"
    }
   ],
   "source": [
    "import pandas as pd\n",
    "\n",
    "df = pd.read_csv('/hpc2hdd/home/yli106/smiles2mol/GEOM/qm9_processed/train_data_40k.csv')\n",
    "df"
   ]
  },
  {
   "cell_type": "code",
   "execution_count": 2,
   "metadata": {},
   "outputs": [],
   "source": [
    "def process_inst(smiles, num_atom, num_bond):\n",
    "    system_prompt = f'Below is a SMILES of a molecule, generate its 3D structure. The molecule has {num_atom} atoms and {num_bond} bonds.'\n",
    "    inst = '<|begin_of_text|><|start_header_id|>system<|end_header_id|>\\n' + system_prompt + '<|eot_id|><|start_header_id|>user<|end_header_id|>\\n' + smiles + '<|eot_id|><|start_header_id|>assistant<|end_header_id|>\\n'\n",
    "    \n",
    "    return inst"
   ]
  },
  {
   "cell_type": "code",
   "execution_count": 7,
   "metadata": {},
   "outputs": [],
   "source": [
    "text_col = []\n",
    "for _, row in df.iterrows():\n",
    "    num_atom = row['num_atom']\n",
    "    num_bond = row['num_bond']\n",
    "    smiles = row['canonicalize_smiles'] \n",
    "    inst = process_inst(smiles, num_atom, num_bond)\n",
    "    model_answer = row['mol_block']\n",
    "    text = inst + model_answer + '<|end_of_text|>'\n",
    "    text_col.append(text)\n",
    "\n",
    "df.loc[:, 'text'] = text_col"
   ]
  },
  {
   "cell_type": "code",
   "execution_count": 8,
   "metadata": {},
   "outputs": [
    {
     "data": {
      "text/html": [
       "<div>\n",
       "<style scoped>\n",
       "    .dataframe tbody tr th:only-of-type {\n",
       "        vertical-align: middle;\n",
       "    }\n",
       "\n",
       "    .dataframe tbody tr th {\n",
       "        vertical-align: top;\n",
       "    }\n",
       "\n",
       "    .dataframe thead th {\n",
       "        text-align: right;\n",
       "    }\n",
       "</style>\n",
       "<table border=\"1\" class=\"dataframe\">\n",
       "  <thead>\n",
       "    <tr style=\"text-align: right;\">\n",
       "      <th></th>\n",
       "      <th>smiles</th>\n",
       "      <th>canonicalize_smiles</th>\n",
       "      <th>num_atom</th>\n",
       "      <th>num_bond</th>\n",
       "      <th>mol_block</th>\n",
       "      <th>text</th>\n",
       "    </tr>\n",
       "  </thead>\n",
       "  <tbody>\n",
       "    <tr>\n",
       "      <th>0</th>\n",
       "      <td>C[C@@]1(N2CC2)C[C@H]1O</td>\n",
       "      <td>[H]O[C@]1([H])C([H])([H])[C@]1(N1C([H])([H])C1...</td>\n",
       "      <td>19</td>\n",
       "      <td>20</td>\n",
       "      <td>\\n     RDKit          3D\\n\\n 19 20  0  0  0  0...</td>\n",
       "      <td>&lt;|begin_of_text|&gt;&lt;|start_header_id|&gt;system&lt;|en...</td>\n",
       "    </tr>\n",
       "    <tr>\n",
       "      <th>1</th>\n",
       "      <td>C[C@@]1(N2CC2)C[C@H]1O</td>\n",
       "      <td>[H]O[C@]1([H])C([H])([H])[C@]1(N1C([H])([H])C1...</td>\n",
       "      <td>19</td>\n",
       "      <td>20</td>\n",
       "      <td>\\n     RDKit          3D\\n\\n 19 20  0  0  0  0...</td>\n",
       "      <td>&lt;|begin_of_text|&gt;&lt;|start_header_id|&gt;system&lt;|en...</td>\n",
       "    </tr>\n",
       "    <tr>\n",
       "      <th>2</th>\n",
       "      <td>C[C@@]1(N2CC2)C[C@H]1O</td>\n",
       "      <td>[H]O[C@]1([H])C([H])([H])[C@]1(N1C([H])([H])C1...</td>\n",
       "      <td>19</td>\n",
       "      <td>20</td>\n",
       "      <td>\\n     RDKit          3D\\n\\n 19 20  0  0  0  0...</td>\n",
       "      <td>&lt;|begin_of_text|&gt;&lt;|start_header_id|&gt;system&lt;|en...</td>\n",
       "    </tr>\n",
       "    <tr>\n",
       "      <th>3</th>\n",
       "      <td>C[C@@]1(N2CC2)C[C@H]1O</td>\n",
       "      <td>[H]O[C@]1([H])C([H])([H])[C@]1(N1C([H])([H])C1...</td>\n",
       "      <td>19</td>\n",
       "      <td>20</td>\n",
       "      <td>\\n     RDKit          3D\\n\\n 19 20  0  0  0  0...</td>\n",
       "      <td>&lt;|begin_of_text|&gt;&lt;|start_header_id|&gt;system&lt;|en...</td>\n",
       "    </tr>\n",
       "    <tr>\n",
       "      <th>4</th>\n",
       "      <td>C[C@@]1(N2CC2)C[C@H]1O</td>\n",
       "      <td>[H]O[C@]1([H])C([H])([H])[C@]1(N1C([H])([H])C1...</td>\n",
       "      <td>19</td>\n",
       "      <td>20</td>\n",
       "      <td>\\n     RDKit          3D\\n\\n 19 20  0  0  0  0...</td>\n",
       "      <td>&lt;|begin_of_text|&gt;&lt;|start_header_id|&gt;system&lt;|en...</td>\n",
       "    </tr>\n",
       "    <tr>\n",
       "      <th>...</th>\n",
       "      <td>...</td>\n",
       "      <td>...</td>\n",
       "      <td>...</td>\n",
       "      <td>...</td>\n",
       "      <td>...</td>\n",
       "      <td>...</td>\n",
       "    </tr>\n",
       "    <tr>\n",
       "      <th>199995</th>\n",
       "      <td>N[C@H]1COCOC1=O</td>\n",
       "      <td>[H]N([H])[C@]1([H])C(=O)OC([H])([H])OC1([H])[H]</td>\n",
       "      <td>15</td>\n",
       "      <td>15</td>\n",
       "      <td>\\n     RDKit          3D\\n\\n 15 15  0  0  0  0...</td>\n",
       "      <td>&lt;|begin_of_text|&gt;&lt;|start_header_id|&gt;system&lt;|en...</td>\n",
       "    </tr>\n",
       "    <tr>\n",
       "      <th>199996</th>\n",
       "      <td>N[C@H]1COCOC1=O</td>\n",
       "      <td>[H]N([H])[C@]1([H])C(=O)OC([H])([H])OC1([H])[H]</td>\n",
       "      <td>15</td>\n",
       "      <td>15</td>\n",
       "      <td>\\n     RDKit          3D\\n\\n 15 15  0  0  0  0...</td>\n",
       "      <td>&lt;|begin_of_text|&gt;&lt;|start_header_id|&gt;system&lt;|en...</td>\n",
       "    </tr>\n",
       "    <tr>\n",
       "      <th>199997</th>\n",
       "      <td>N[C@H]1COCOC1=O</td>\n",
       "      <td>[H]N([H])[C@]1([H])C(=O)OC([H])([H])OC1([H])[H]</td>\n",
       "      <td>15</td>\n",
       "      <td>15</td>\n",
       "      <td>\\n     RDKit          3D\\n\\n 15 15  0  0  0  0...</td>\n",
       "      <td>&lt;|begin_of_text|&gt;&lt;|start_header_id|&gt;system&lt;|en...</td>\n",
       "    </tr>\n",
       "    <tr>\n",
       "      <th>199998</th>\n",
       "      <td>N[C@H]1COCOC1=O</td>\n",
       "      <td>[H]N([H])[C@]1([H])C(=O)OC([H])([H])OC1([H])[H]</td>\n",
       "      <td>15</td>\n",
       "      <td>15</td>\n",
       "      <td>\\n     RDKit          3D\\n\\n 15 15  0  0  0  0...</td>\n",
       "      <td>&lt;|begin_of_text|&gt;&lt;|start_header_id|&gt;system&lt;|en...</td>\n",
       "    </tr>\n",
       "    <tr>\n",
       "      <th>199999</th>\n",
       "      <td>N[C@H]1COCOC1=O</td>\n",
       "      <td>[H]N([H])[C@]1([H])C(=O)OC([H])([H])OC1([H])[H]</td>\n",
       "      <td>15</td>\n",
       "      <td>15</td>\n",
       "      <td>\\n     RDKit          3D\\n\\n 15 15  0  0  0  0...</td>\n",
       "      <td>&lt;|begin_of_text|&gt;&lt;|start_header_id|&gt;system&lt;|en...</td>\n",
       "    </tr>\n",
       "  </tbody>\n",
       "</table>\n",
       "<p>200000 rows × 6 columns</p>\n",
       "</div>"
      ],
      "text/plain": [
       "                        smiles  \\\n",
       "0       C[C@@]1(N2CC2)C[C@H]1O   \n",
       "1       C[C@@]1(N2CC2)C[C@H]1O   \n",
       "2       C[C@@]1(N2CC2)C[C@H]1O   \n",
       "3       C[C@@]1(N2CC2)C[C@H]1O   \n",
       "4       C[C@@]1(N2CC2)C[C@H]1O   \n",
       "...                        ...   \n",
       "199995         N[C@H]1COCOC1=O   \n",
       "199996         N[C@H]1COCOC1=O   \n",
       "199997         N[C@H]1COCOC1=O   \n",
       "199998         N[C@H]1COCOC1=O   \n",
       "199999         N[C@H]1COCOC1=O   \n",
       "\n",
       "                                      canonicalize_smiles  num_atom  num_bond  \\\n",
       "0       [H]O[C@]1([H])C([H])([H])[C@]1(N1C([H])([H])C1...        19        20   \n",
       "1       [H]O[C@]1([H])C([H])([H])[C@]1(N1C([H])([H])C1...        19        20   \n",
       "2       [H]O[C@]1([H])C([H])([H])[C@]1(N1C([H])([H])C1...        19        20   \n",
       "3       [H]O[C@]1([H])C([H])([H])[C@]1(N1C([H])([H])C1...        19        20   \n",
       "4       [H]O[C@]1([H])C([H])([H])[C@]1(N1C([H])([H])C1...        19        20   \n",
       "...                                                   ...       ...       ...   \n",
       "199995    [H]N([H])[C@]1([H])C(=O)OC([H])([H])OC1([H])[H]        15        15   \n",
       "199996    [H]N([H])[C@]1([H])C(=O)OC([H])([H])OC1([H])[H]        15        15   \n",
       "199997    [H]N([H])[C@]1([H])C(=O)OC([H])([H])OC1([H])[H]        15        15   \n",
       "199998    [H]N([H])[C@]1([H])C(=O)OC([H])([H])OC1([H])[H]        15        15   \n",
       "199999    [H]N([H])[C@]1([H])C(=O)OC([H])([H])OC1([H])[H]        15        15   \n",
       "\n",
       "                                                mol_block  \\\n",
       "0       \\n     RDKit          3D\\n\\n 19 20  0  0  0  0...   \n",
       "1       \\n     RDKit          3D\\n\\n 19 20  0  0  0  0...   \n",
       "2       \\n     RDKit          3D\\n\\n 19 20  0  0  0  0...   \n",
       "3       \\n     RDKit          3D\\n\\n 19 20  0  0  0  0...   \n",
       "4       \\n     RDKit          3D\\n\\n 19 20  0  0  0  0...   \n",
       "...                                                   ...   \n",
       "199995  \\n     RDKit          3D\\n\\n 15 15  0  0  0  0...   \n",
       "199996  \\n     RDKit          3D\\n\\n 15 15  0  0  0  0...   \n",
       "199997  \\n     RDKit          3D\\n\\n 15 15  0  0  0  0...   \n",
       "199998  \\n     RDKit          3D\\n\\n 15 15  0  0  0  0...   \n",
       "199999  \\n     RDKit          3D\\n\\n 15 15  0  0  0  0...   \n",
       "\n",
       "                                                     text  \n",
       "0       <|begin_of_text|><|start_header_id|>system<|en...  \n",
       "1       <|begin_of_text|><|start_header_id|>system<|en...  \n",
       "2       <|begin_of_text|><|start_header_id|>system<|en...  \n",
       "3       <|begin_of_text|><|start_header_id|>system<|en...  \n",
       "4       <|begin_of_text|><|start_header_id|>system<|en...  \n",
       "...                                                   ...  \n",
       "199995  <|begin_of_text|><|start_header_id|>system<|en...  \n",
       "199996  <|begin_of_text|><|start_header_id|>system<|en...  \n",
       "199997  <|begin_of_text|><|start_header_id|>system<|en...  \n",
       "199998  <|begin_of_text|><|start_header_id|>system<|en...  \n",
       "199999  <|begin_of_text|><|start_header_id|>system<|en...  \n",
       "\n",
       "[200000 rows x 6 columns]"
      ]
     },
     "execution_count": 8,
     "metadata": {},
     "output_type": "execute_result"
    }
   ],
   "source": [
    "df"
   ]
  },
  {
   "cell_type": "code",
   "execution_count": 5,
   "metadata": {},
   "outputs": [],
   "source": [
    "df.to_csv('/hpc2hdd/home/yli106/smiles2mol/GEOM/qm9_processed/train_data_40k_llama3.csv', index=False)"
   ]
  },
  {
   "cell_type": "code",
   "execution_count": 1,
   "metadata": {},
   "outputs": [],
   "source": [
    "import os\n",
    "import torch\n",
    "from transformers import (\n",
    "    AutoModelForCausalLM,\n",
    "    AutoTokenizer,\n",
    "    StoppingCriteria,\n",
    "    HfArgumentParser,\n",
    "    TrainingArguments,\n",
    "    logging,\n",
    ")\n",
    "from peft import LoraConfig, PeftModel\n",
    "from trl import SFTTrainer\n",
    "import re\n",
    "from tqdm import tqdm\n",
    "import pandas as pd\n",
    "import pickle\n",
    "from conf3d import dataset\n",
    "import yaml\n",
    "from easydict import EasyDict\n",
    "\n",
    "with open('/hpc2hdd/home/yli106/smiles2mol/config/qm9_default.yml', 'r') as f:\n",
    "    config = yaml.safe_load(f)\n",
    "config = EasyDict(config)\n",
    "config.training_arguments.learning_rate = float(config.training_arguments.learning_rate)"
   ]
  },
  {
   "cell_type": "code",
   "execution_count": 2,
   "metadata": {},
   "outputs": [
    {
     "data": {
      "application/vnd.jupyter.widget-view+json": {
       "model_id": "4e57b8a4c9854c40b982b15e8c455879",
       "version_major": 2,
       "version_minor": 0
      },
      "text/plain": [
       "Loading checkpoint shards:   0%|          | 0/2 [00:00<?, ?it/s]"
      ]
     },
     "metadata": {},
     "output_type": "display_data"
    },
    {
     "name": "stderr",
     "output_type": "stream",
     "text": [
      "/hpc2hdd/home/yli106/.conda/envs/dsaa6800/lib/python3.10/site-packages/transformers/generation/configuration_utils.py:492: UserWarning: `do_sample` is set to `False`. However, `temperature` is set to `0.9` -- this flag is only used in sample-based generation modes. You should set `do_sample=True` or unset `temperature`. This was detected when initializing the generation config instance, which means the corresponding file may hold incorrect parameterization and should be fixed.\n",
      "  warnings.warn(\n",
      "/hpc2hdd/home/yli106/.conda/envs/dsaa6800/lib/python3.10/site-packages/transformers/generation/configuration_utils.py:497: UserWarning: `do_sample` is set to `False`. However, `top_p` is set to `0.6` -- this flag is only used in sample-based generation modes. You should set `do_sample=True` or unset `top_p`. This was detected when initializing the generation config instance, which means the corresponding file may hold incorrect parameterization and should be fixed.\n",
      "  warnings.warn(\n",
      "/hpc2hdd/home/yli106/.conda/envs/dsaa6800/lib/python3.10/site-packages/transformers/generation/configuration_utils.py:492: UserWarning: `do_sample` is set to `False`. However, `temperature` is set to `0.9` -- this flag is only used in sample-based generation modes. You should set `do_sample=True` or unset `temperature`.\n",
      "  warnings.warn(\n",
      "/hpc2hdd/home/yli106/.conda/envs/dsaa6800/lib/python3.10/site-packages/transformers/generation/configuration_utils.py:497: UserWarning: `do_sample` is set to `False`. However, `top_p` is set to `0.6` -- this flag is only used in sample-based generation modes. You should set `do_sample=True` or unset `top_p`.\n",
      "  warnings.warn(\n"
     ]
    },
    {
     "name": "stdout",
     "output_type": "stream",
     "text": [
      "loading data from /hpc2hdd/home/yli106/smiles2mol/GEOM/qm9_processed\n"
     ]
    }
   ],
   "source": [
    "# load the tokenizer\n",
    "model_path = os.path.join(config.model.base_path, '%s_%s' % (config.model.type, config.model.size))\n",
    "peft_path = config.model.peft_path\n",
    "tokenizer = AutoTokenizer.from_pretrained(model_path, trust_remote_code=True, use_fast=False)\n",
    "tokenizer.pad_token = tokenizer.eos_token # Use the EOS token to pad shorter sequences\n",
    "tokenizer.padding_side = \"right\" # Fix weird overflow issue with fp16 training\n",
    "\n",
    "# model set up\n",
    "model = AutoModelForCausalLM.from_pretrained(\n",
    "    model_path,\n",
    "    device_map= \"auto\"\n",
    ")\n",
    "model = PeftModel.from_pretrained(model, peft_path)\n",
    "model = model.merge_and_unload()\n",
    "\n",
    "# load the dataset\n",
    "load_path = os.path.join(config.data.base_path, '%s_processed' % config.data.dataset)\n",
    "print('loading data from %s' % load_path)\n",
    "with open(os.path.join(load_path, config.data.test_set), 'rb') as f:\n",
    "    test_data = pickle.load(f)"
   ]
  },
  {
   "cell_type": "code",
   "execution_count": 3,
   "metadata": {},
   "outputs": [
    {
     "name": "stdout",
     "output_type": "stream",
     "text": [
      "<s>[INST] <<SYS>>\n",
      "Below is a SMILES of a molecule, generate its 3D structure. The molecule has 19 atoms and 18 bonds.\n",
      "<</SYS>>\n",
      "\n",
      "[H]C#CC(=O)[C@]([H])(O[H])C([H])([H])C([H])([H])C([H])([H])[H] [/INST] \n"
     ]
    }
   ],
   "source": [
    "num_conf = len(test_data[0][3])\n",
    "input_text = dataset.process_inst(test_data[0][0], test_data[0][1], test_data[0][2])\n",
    "print(input_text)\n",
    "input_ids = tokenizer.encode(input_text, return_tensors='pt')\n",
    "input_ids = input_ids.to('cuda')"
   ]
  },
  {
   "cell_type": "code",
   "execution_count": 4,
   "metadata": {},
   "outputs": [],
   "source": [
    "# define StoppingCriteria\n",
    "class CustomStoppingCriteria(StoppingCriteria):\n",
    "    def __call__(self, input_ids, scores):\n",
    "        # check if the end signiture is generated\n",
    "        if 11056 in input_ids[0]:\n",
    "            return True \n",
    "        # check if the number of line breaks reaches certain length\n",
    "        elif (input_ids[0] == 13).sum().item() >= test_data[0][1]+test_data[0][2]+10:\n",
    "            return True\n",
    "        else:\n",
    "            return False"
   ]
  },
  {
   "cell_type": "code",
   "execution_count": 5,
   "metadata": {},
   "outputs": [],
   "source": [
    "from torch.cuda import empty_cache\n",
    "\n",
    "generated_texts = []\n",
    "batch_size= 5\n",
    "for _ in range((config.inference.multiplier*num_conf) // batch_size):\n",
    "    output_sequences = model.generate(\n",
    "        input_ids=input_ids, \n",
    "        max_length=config.inference.max_length, \n",
    "        do_sample=config.inference.do_sample, \n",
    "        top_k=config.inference.top_k, \n",
    "        top_p=config.inference.top_p, \n",
    "        temperature=config.inference.temperature, \n",
    "        eos_token_id=tokenizer.eos_token_id, \n",
    "        stopping_criteria=[CustomStoppingCriteria()], \n",
    "        num_return_sequences=batch_size\n",
    "    )\n",
    "    generated_texts += [tokenizer.decode(sequence, skip_special_tokens=True) for sequence in output_sequences]\n",
    "    empty_cache()  # 清除显存缓存\n",
    "\n",
    "# 如果num_conf不是batch_size的整数倍，处理剩余的序列\n",
    "remainder = (config.inference.multiplier*num_conf) // batch_size\n",
    "if remainder > 0:\n",
    "    output_sequences = model.generate(\n",
    "        input_ids=input_ids, \n",
    "        max_length=config.inference.max_length, \n",
    "        do_sample=config.inference.do_sample, \n",
    "        top_k=config.inference.top_k, \n",
    "        top_p=config.inference.top_p, \n",
    "        temperature=config.inference.temperature, \n",
    "        eos_token_id=tokenizer.eos_token_id, \n",
    "        stopping_criteria=[CustomStoppingCriteria()], \n",
    "        num_return_sequences=remainder\n",
    "    )\n",
    "    generated_texts += [tokenizer.decode(sequence, skip_special_tokens=True) for sequence in output_sequences]"
   ]
  },
  {
   "cell_type": "code",
   "execution_count": 11,
   "metadata": {},
   "outputs": [],
   "source": [
    "from conf3d import dataset\n",
    "\n",
    "processed_texts = []\n",
    "for i in range(len(generated_texts)):\n",
    "    test_text = dataset.get_mol_block(generated_texts[i], test_data[0][0], test_data[0][1], test_data[0][2])\n",
    "    substring = test_text.split('END')[0]+'END'\n",
    "    processed_texts.append(substring)"
   ]
  },
  {
   "cell_type": "code",
   "execution_count": 19,
   "metadata": {},
   "outputs": [
    {
     "name": "stderr",
     "output_type": "stream",
     "text": [
      "[15:22:48] Cannot convert '-3.' to int on line 24\n",
      "[15:22:48] Explicit valence for atom # 8 H, 2, is greater than permitted\n",
      "[15:22:48] Cannot convert '-4.' to int on line 24\n",
      "[15:22:48] Atom line too short: '  1  2  1  0' on line 23\n",
      "[15:22:48] Atom line too short: '  1  2  1  0' on line 23\n",
      "[15:22:48] Atom line too short: '  1  2  1  0' on line 23\n",
      "[15:22:48] Atom line too short: '  1  2  1  0' on line 23\n",
      "[15:22:48] EOF hit while reading bonds\n",
      "[15:22:48] EOF hit while reading bonds\n",
      "[15:22:48] Cannot convert 'END' to int on line 42\n",
      "[15:22:48] Atom line too short: '  1  2  1  0' on line 23\n",
      "[15:22:48] EOF hit while reading bonds\n",
      "[15:22:48] Atom line too short: '  1  2  1  0' on line 23\n",
      "[15:22:48] EOF hit while reading bonds\n",
      "[15:22:48] EOF hit while reading bonds\n",
      "[15:22:48] Atom line too short: '  1  2  1  0' on line 23\n",
      "[15:22:48] EOF hit while reading bonds\n",
      "[15:22:48] Atom line too short: '  1  2  1  0' on line 23\n",
      "[15:22:48] EOF hit while reading bonds\n",
      "[15:22:48] Atom line too short: '  1  2  1  0' on line 23\n",
      "[15:22:48] Unrecognized atom-list query modifier: '1' on line 42\n",
      "[15:22:48] Unrecognized atom-list query modifier: '1' on line 42\n",
      "[15:22:48] Atom line too short: '  1  2  1  0' on line 23\n",
      "[15:22:48] Cannot convert 'END' to int on line 42\n",
      "[15:22:48] Atom line too short: '  1  2  1  0' on line 23\n",
      "[15:22:48] Problems encountered parsing Mol data, M  END missing around line 42\n",
      "[15:22:48] EOF hit while reading bonds\n",
      "[15:22:48] Unrecognized atom-list query modifier: '1' on line 42\n",
      "[15:22:48] Atom line too short: '  1  2  1  0' on line 23\n",
      "[15:22:48] Cannot convert '-4.' to int on line 24\n",
      "[15:22:48] Explicit valence for atom # 8 H, 2, is greater than permitted\n",
      "[15:22:48] Atom line too short: '  1  2  1  0' on line 23\n",
      "[15:22:48] EOF hit while reading bonds\n",
      "[15:22:48] EOF hit while reading bonds\n",
      "[15:22:48] EOF hit while reading bonds\n",
      "[15:22:48] Cannot convert '-3.' to int on line 24\n",
      "[15:22:48] Unrecognized atom-list query modifier: '1' on line 42\n",
      "[15:22:48] Unrecognized atom-list query modifier: '1' on line 42\n",
      "[15:22:48] Atom line too short: '  1  2  1  0' on line 23\n",
      "[15:22:48] Unrecognized atom-list query modifier: '1' on line 42\n",
      "[15:22:48] Cannot convert '-4.' to int on line 24\n",
      "[15:22:48] Explicit valence for atom # 9 H, 3, is greater than permitted\n",
      "[15:22:48] Problems encountered parsing Mol data, M  END missing around line 42\n",
      "[15:22:48] Explicit valence for atom # 9 H, 4, is greater than permitted\n",
      "[15:22:48] EOF hit while reading bonds\n",
      "[15:22:48] EOF hit while reading bonds\n",
      "[15:22:48] Unrecognized atom-list query modifier: '1' on line 42\n",
      "[15:22:48] Unrecognized atom-list query modifier: 'E' on line 42\n",
      "[15:22:48] EOF hit while reading bonds\n",
      "[15:22:48] Atom line too short: '  1  2  1  0' on line 23\n",
      "[15:22:48] EOF hit while reading bonds\n",
      "[15:22:48] EOF hit while reading bonds\n",
      "[15:22:48] EOF hit while reading bonds\n",
      "[15:22:48] Atom line too short: '  1  2  1  0' on line 23\n",
      "[15:22:48] Cannot convert '-4.' to int on line 24\n",
      "[15:22:48] Atom line too short: '  1  2  1  0' on line 23\n",
      "[15:22:48] Cannot convert '-3.' to int on line 24\n",
      "[15:22:48] Atom line too short: '  1  2  1  0' on line 23\n",
      "[15:22:48] Atom line too short: '  1  2  1  0' on line 23\n",
      "[15:22:48] Cannot convert '-3.' to int on line 24\n",
      "[15:22:48] EOF hit while reading bonds\n",
      "[15:22:48] EOF hit while reading bonds\n",
      "[15:22:48] Cannot convert '-4.' to int on line 24\n",
      "[15:22:48] Atom line too short: '  1  2  1  0' on line 23\n",
      "[15:22:48] Atom line too short: '  1  2  1  0' on line 23\n",
      "[15:22:48] Atom line too short: '  1  2  1  0' on line 23\n",
      "[15:22:48] Cannot convert '-4.' to int on line 24\n",
      "[15:22:48] Atom line too short: '  1  2  1  0' on line 23\n",
      "[15:22:48] Atom line too short: '  1  2  1  0' on line 23\n",
      "[15:22:48] Unrecognized atom-list query modifier: '1' on line 42\n",
      "[15:22:48] Explicit valence for atom # 7 O, 4, is greater than permitted\n",
      "[15:22:48] Unrecognized atom-list query modifier: '1' on line 42\n",
      "[15:22:48] Atom line too short: '  1  2  1  0' on line 23\n",
      "[15:22:48] Explicit valence for atom # 8 H, 2, is greater than permitted\n",
      "[15:22:48] Atom line too short: '  1  2  1  0' on line 23\n",
      "[15:22:48] EOF hit while reading bonds\n",
      "[15:22:48] Atom line too short: '  1  2  1  0' on line 23\n",
      "[15:22:48] Atom line too short: '  1  2  1  0' on line 23\n",
      "[15:22:48] Unrecognized atom-list query modifier: '1' on line 42\n",
      "[15:22:48] Unrecognized atom-list query modifier: '1' on line 42\n",
      "[15:22:48] Unrecognized atom-list query modifier: '1' on line 42\n",
      "[15:22:48] Atom line too short: '  1  2  1  0' on line 23\n",
      "[15:22:48] Atom line too short: '  1  2  1  0' on line 23\n",
      "[15:22:48] EOF hit while reading bonds\n",
      "[15:22:48] EOF hit while reading bonds\n",
      "[15:22:48] Cannot convert '-3.' to int on line 24\n",
      "[15:22:48] EOF hit while reading bonds\n",
      "[15:22:48] Explicit valence for atom # 7 H, 2, is greater than permitted\n",
      "[15:22:48] Atom line too short: '  1  2  1  0' on line 23\n",
      "[15:22:48] Atom line too short: '  1  2  1  0' on line 23\n"
     ]
    }
   ],
   "source": [
    "from rdkit import Chem\n",
    "from rdkit.Chem import AllChem\n",
    "import re\n",
    "from rdkit.Chem import rdDetermineBonds\n",
    "from rdkit.Chem.rdmolops import RemoveHs\n",
    "from rdkit.Chem import rdMolAlign as MA\n",
    "from rdkit.Chem.rdForceFieldHelpers import MMFFOptimizeMolecule\n",
    "\n",
    "from conf3d import dataset\n",
    "\n",
    "gen_data = []\n",
    "for i in range(len(generated_texts)):\n",
    "    with open('test.mol', 'w') as f:\n",
    "        f.write(processed_texts[i])\n",
    "    try:\n",
    "        gen_mol = Chem.MolFromMolFile('/hpc2hdd/home/yli106/smiles2mol/test.mol')\n",
    "        gen_mol = RemoveHs(gen_mol)\n",
    "        gen_data.append(gen_mol)\n",
    "    except:\n",
    "        pass\n"
   ]
  },
  {
   "cell_type": "code",
   "execution_count": 22,
   "metadata": {},
   "outputs": [],
   "source": [
    "success = 0\n",
    "valid = 0\n",
    "for gen_mol in gen_data:\n",
    "    min_rmsd = 1000\n",
    "    for raw_ref_mol in test_data[0][3]:\n",
    "        ref_mol = RemoveHs(raw_ref_mol) \n",
    "        if Chem.MolToSmiles(gen_mol) == Chem.MolToSmiles(ref_mol):\n",
    "            rmsd = MA.GetBestRMS(gen_mol, ref_mol)\n",
    "            success+=1\n",
    "            if rmsd<min_rmsd:\n",
    "                min_rmsd = rmsd\n",
    "    if min_rmsd<=0.5:\n",
    "        valid+=1\n",
    "        # print(Chem.MolToSmiles(ref_mol))\n",
    "        # print(Chem.MolToMolBlock(ref_mol))"
   ]
  },
  {
   "cell_type": "code",
   "execution_count": 23,
   "metadata": {},
   "outputs": [
    {
     "data": {
      "text/plain": [
       "0.2669939154386034"
      ]
     },
     "execution_count": 23,
     "metadata": {},
     "output_type": "execute_result"
    }
   ],
   "source": [
    "min_rmsd"
   ]
  }
 ],
 "metadata": {
  "kernelspec": {
   "display_name": "Python 3.10.13 ('dsaa6800': conda)",
   "language": "python",
   "name": "python3"
  },
  "language_info": {
   "codemirror_mode": {
    "name": "ipython",
    "version": 3
   },
   "file_extension": ".py",
   "mimetype": "text/x-python",
   "name": "python",
   "nbconvert_exporter": "python",
   "pygments_lexer": "ipython3",
   "version": "3.10.13"
  },
  "orig_nbformat": 4,
  "vscode": {
   "interpreter": {
    "hash": "d6ce6e8a217c41fb4da55841c6f4fa84b93e38c08d9863917dcf321eba60ffb7"
   }
  }
 },
 "nbformat": 4,
 "nbformat_minor": 2
}
